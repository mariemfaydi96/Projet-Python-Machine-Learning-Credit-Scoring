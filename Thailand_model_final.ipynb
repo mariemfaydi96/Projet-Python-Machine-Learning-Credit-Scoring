{
 "cells": [
  {
   "cell_type": "markdown",
   "metadata": {},
   "source": [
    "# Thaiwan"
   ]
  },
  {
   "cell_type": "markdown",
   "metadata": {},
   "source": [
    "## 1) Data Cleaning\n"
   ]
  },
  {
   "cell_type": "code",
   "execution_count": 1,
   "metadata": {},
   "outputs": [],
   "source": [
    "# 1- importation des bibliothéques pour la manipulation et la visualisation des données\n",
    "import pandas as pd\n",
    "import numpy as np\n",
    "import matplotlib.pyplot as plt\n",
    "%matplotlib inline\n",
    "import seaborn as sns"
   ]
  },
  {
   "cell_type": "markdown",
   "metadata": {},
   "source": [
    "help(pd.read_excel)"
   ]
  },
  {
   "cell_type": "code",
   "execution_count": 2,
   "metadata": {},
   "outputs": [],
   "source": [
    "# 2- Importation de la base Bank of thaiwan\n",
    "tai=pd.read_excel(\"default of credit card clients.xls\",index_col=0,skiprows=1)"
   ]
  },
  {
   "cell_type": "code",
   "execution_count": 3,
   "metadata": {},
   "outputs": [
    {
     "data": {
      "text/html": [
       "<div>\n",
       "<style scoped>\n",
       "    .dataframe tbody tr th:only-of-type {\n",
       "        vertical-align: middle;\n",
       "    }\n",
       "\n",
       "    .dataframe tbody tr th {\n",
       "        vertical-align: top;\n",
       "    }\n",
       "\n",
       "    .dataframe thead th {\n",
       "        text-align: right;\n",
       "    }\n",
       "</style>\n",
       "<table border=\"1\" class=\"dataframe\">\n",
       "  <thead>\n",
       "    <tr style=\"text-align: right;\">\n",
       "      <th></th>\n",
       "      <th>LIMIT_BAL</th>\n",
       "      <th>SEX</th>\n",
       "      <th>EDUCATION</th>\n",
       "      <th>MARRIAGE</th>\n",
       "      <th>AGE</th>\n",
       "      <th>PAY_0</th>\n",
       "      <th>PAY_2</th>\n",
       "      <th>PAY_3</th>\n",
       "      <th>PAY_4</th>\n",
       "      <th>PAY_5</th>\n",
       "      <th>...</th>\n",
       "      <th>BILL_AMT4</th>\n",
       "      <th>BILL_AMT5</th>\n",
       "      <th>BILL_AMT6</th>\n",
       "      <th>PAY_AMT1</th>\n",
       "      <th>PAY_AMT2</th>\n",
       "      <th>PAY_AMT3</th>\n",
       "      <th>PAY_AMT4</th>\n",
       "      <th>PAY_AMT5</th>\n",
       "      <th>PAY_AMT6</th>\n",
       "      <th>default payment next month</th>\n",
       "    </tr>\n",
       "    <tr>\n",
       "      <th>ID</th>\n",
       "      <th></th>\n",
       "      <th></th>\n",
       "      <th></th>\n",
       "      <th></th>\n",
       "      <th></th>\n",
       "      <th></th>\n",
       "      <th></th>\n",
       "      <th></th>\n",
       "      <th></th>\n",
       "      <th></th>\n",
       "      <th></th>\n",
       "      <th></th>\n",
       "      <th></th>\n",
       "      <th></th>\n",
       "      <th></th>\n",
       "      <th></th>\n",
       "      <th></th>\n",
       "      <th></th>\n",
       "      <th></th>\n",
       "      <th></th>\n",
       "      <th></th>\n",
       "    </tr>\n",
       "  </thead>\n",
       "  <tbody>\n",
       "    <tr>\n",
       "      <th>1</th>\n",
       "      <td>20000</td>\n",
       "      <td>2</td>\n",
       "      <td>2</td>\n",
       "      <td>1</td>\n",
       "      <td>24</td>\n",
       "      <td>2</td>\n",
       "      <td>2</td>\n",
       "      <td>-1</td>\n",
       "      <td>-1</td>\n",
       "      <td>-2</td>\n",
       "      <td>...</td>\n",
       "      <td>0</td>\n",
       "      <td>0</td>\n",
       "      <td>0</td>\n",
       "      <td>0</td>\n",
       "      <td>689</td>\n",
       "      <td>0</td>\n",
       "      <td>0</td>\n",
       "      <td>0</td>\n",
       "      <td>0</td>\n",
       "      <td>1</td>\n",
       "    </tr>\n",
       "    <tr>\n",
       "      <th>2</th>\n",
       "      <td>120000</td>\n",
       "      <td>2</td>\n",
       "      <td>2</td>\n",
       "      <td>2</td>\n",
       "      <td>26</td>\n",
       "      <td>-1</td>\n",
       "      <td>2</td>\n",
       "      <td>0</td>\n",
       "      <td>0</td>\n",
       "      <td>0</td>\n",
       "      <td>...</td>\n",
       "      <td>3272</td>\n",
       "      <td>3455</td>\n",
       "      <td>3261</td>\n",
       "      <td>0</td>\n",
       "      <td>1000</td>\n",
       "      <td>1000</td>\n",
       "      <td>1000</td>\n",
       "      <td>0</td>\n",
       "      <td>2000</td>\n",
       "      <td>1</td>\n",
       "    </tr>\n",
       "    <tr>\n",
       "      <th>3</th>\n",
       "      <td>90000</td>\n",
       "      <td>2</td>\n",
       "      <td>2</td>\n",
       "      <td>2</td>\n",
       "      <td>34</td>\n",
       "      <td>0</td>\n",
       "      <td>0</td>\n",
       "      <td>0</td>\n",
       "      <td>0</td>\n",
       "      <td>0</td>\n",
       "      <td>...</td>\n",
       "      <td>14331</td>\n",
       "      <td>14948</td>\n",
       "      <td>15549</td>\n",
       "      <td>1518</td>\n",
       "      <td>1500</td>\n",
       "      <td>1000</td>\n",
       "      <td>1000</td>\n",
       "      <td>1000</td>\n",
       "      <td>5000</td>\n",
       "      <td>0</td>\n",
       "    </tr>\n",
       "    <tr>\n",
       "      <th>4</th>\n",
       "      <td>50000</td>\n",
       "      <td>2</td>\n",
       "      <td>2</td>\n",
       "      <td>1</td>\n",
       "      <td>37</td>\n",
       "      <td>0</td>\n",
       "      <td>0</td>\n",
       "      <td>0</td>\n",
       "      <td>0</td>\n",
       "      <td>0</td>\n",
       "      <td>...</td>\n",
       "      <td>28314</td>\n",
       "      <td>28959</td>\n",
       "      <td>29547</td>\n",
       "      <td>2000</td>\n",
       "      <td>2019</td>\n",
       "      <td>1200</td>\n",
       "      <td>1100</td>\n",
       "      <td>1069</td>\n",
       "      <td>1000</td>\n",
       "      <td>0</td>\n",
       "    </tr>\n",
       "    <tr>\n",
       "      <th>5</th>\n",
       "      <td>50000</td>\n",
       "      <td>1</td>\n",
       "      <td>2</td>\n",
       "      <td>1</td>\n",
       "      <td>57</td>\n",
       "      <td>-1</td>\n",
       "      <td>0</td>\n",
       "      <td>-1</td>\n",
       "      <td>0</td>\n",
       "      <td>0</td>\n",
       "      <td>...</td>\n",
       "      <td>20940</td>\n",
       "      <td>19146</td>\n",
       "      <td>19131</td>\n",
       "      <td>2000</td>\n",
       "      <td>36681</td>\n",
       "      <td>10000</td>\n",
       "      <td>9000</td>\n",
       "      <td>689</td>\n",
       "      <td>679</td>\n",
       "      <td>0</td>\n",
       "    </tr>\n",
       "  </tbody>\n",
       "</table>\n",
       "<p>5 rows × 24 columns</p>\n",
       "</div>"
      ],
      "text/plain": [
       "    LIMIT_BAL  SEX  EDUCATION  MARRIAGE  AGE  PAY_0  PAY_2  PAY_3  PAY_4  \\\n",
       "ID                                                                         \n",
       "1       20000    2          2         1   24      2      2     -1     -1   \n",
       "2      120000    2          2         2   26     -1      2      0      0   \n",
       "3       90000    2          2         2   34      0      0      0      0   \n",
       "4       50000    2          2         1   37      0      0      0      0   \n",
       "5       50000    1          2         1   57     -1      0     -1      0   \n",
       "\n",
       "    PAY_5  ...  BILL_AMT4  BILL_AMT5  BILL_AMT6  PAY_AMT1  PAY_AMT2  PAY_AMT3  \\\n",
       "ID         ...                                                                  \n",
       "1      -2  ...          0          0          0         0       689         0   \n",
       "2       0  ...       3272       3455       3261         0      1000      1000   \n",
       "3       0  ...      14331      14948      15549      1518      1500      1000   \n",
       "4       0  ...      28314      28959      29547      2000      2019      1200   \n",
       "5       0  ...      20940      19146      19131      2000     36681     10000   \n",
       "\n",
       "    PAY_AMT4  PAY_AMT5  PAY_AMT6  default payment next month  \n",
       "ID                                                            \n",
       "1          0         0         0                           1  \n",
       "2       1000         0      2000                           1  \n",
       "3       1000      1000      5000                           0  \n",
       "4       1100      1069      1000                           0  \n",
       "5       9000       689       679                           0  \n",
       "\n",
       "[5 rows x 24 columns]"
      ]
     },
     "execution_count": 3,
     "metadata": {},
     "output_type": "execute_result"
    }
   ],
   "source": [
    "# Affichage de premier 5 client\n",
    "tai.head()"
   ]
  },
  {
   "cell_type": "code",
   "execution_count": 4,
   "metadata": {},
   "outputs": [
    {
     "data": {
      "text/plain": [
       "0    23364\n",
       "1     6636\n",
       "Name: default payment next month, dtype: int64"
      ]
     },
     "execution_count": 4,
     "metadata": {},
     "output_type": "execute_result"
    }
   ],
   "source": [
    "#Afficher le nombre de chaque type de clients\n",
    "tai[\"default payment next month\"].value_counts()"
   ]
  },
  {
   "cell_type": "code",
   "execution_count": 5,
   "metadata": {},
   "outputs": [
    {
     "data": {
      "text/plain": [
       "(30000, 24)"
      ]
     },
     "execution_count": 5,
     "metadata": {},
     "output_type": "execute_result"
    }
   ],
   "source": [
    "#Affichage de dimension du Dataframe\n",
    "tai.shape"
   ]
  },
  {
   "cell_type": "code",
   "execution_count": 6,
   "metadata": {},
   "outputs": [
    {
     "data": {
      "text/html": [
       "<div>\n",
       "<style scoped>\n",
       "    .dataframe tbody tr th:only-of-type {\n",
       "        vertical-align: middle;\n",
       "    }\n",
       "\n",
       "    .dataframe tbody tr th {\n",
       "        vertical-align: top;\n",
       "    }\n",
       "\n",
       "    .dataframe thead th {\n",
       "        text-align: right;\n",
       "    }\n",
       "</style>\n",
       "<table border=\"1\" class=\"dataframe\">\n",
       "  <thead>\n",
       "    <tr style=\"text-align: right;\">\n",
       "      <th></th>\n",
       "      <th>LIMIT_BAL</th>\n",
       "      <th>SEX</th>\n",
       "      <th>EDUCATION</th>\n",
       "      <th>MARRIAGE</th>\n",
       "      <th>AGE</th>\n",
       "      <th>PAY_0</th>\n",
       "      <th>PAY_2</th>\n",
       "      <th>PAY_3</th>\n",
       "      <th>PAY_4</th>\n",
       "      <th>PAY_5</th>\n",
       "      <th>...</th>\n",
       "      <th>BILL_AMT4</th>\n",
       "      <th>BILL_AMT5</th>\n",
       "      <th>BILL_AMT6</th>\n",
       "      <th>PAY_AMT1</th>\n",
       "      <th>PAY_AMT2</th>\n",
       "      <th>PAY_AMT3</th>\n",
       "      <th>PAY_AMT4</th>\n",
       "      <th>PAY_AMT5</th>\n",
       "      <th>PAY_AMT6</th>\n",
       "      <th>default payment next month</th>\n",
       "    </tr>\n",
       "    <tr>\n",
       "      <th>ID</th>\n",
       "      <th></th>\n",
       "      <th></th>\n",
       "      <th></th>\n",
       "      <th></th>\n",
       "      <th></th>\n",
       "      <th></th>\n",
       "      <th></th>\n",
       "      <th></th>\n",
       "      <th></th>\n",
       "      <th></th>\n",
       "      <th></th>\n",
       "      <th></th>\n",
       "      <th></th>\n",
       "      <th></th>\n",
       "      <th></th>\n",
       "      <th></th>\n",
       "      <th></th>\n",
       "      <th></th>\n",
       "      <th></th>\n",
       "      <th></th>\n",
       "      <th></th>\n",
       "    </tr>\n",
       "  </thead>\n",
       "  <tbody>\n",
       "    <tr>\n",
       "      <th>1</th>\n",
       "      <td>20000</td>\n",
       "      <td>2</td>\n",
       "      <td>2</td>\n",
       "      <td>1</td>\n",
       "      <td>24</td>\n",
       "      <td>2</td>\n",
       "      <td>2</td>\n",
       "      <td>-1</td>\n",
       "      <td>-1</td>\n",
       "      <td>-2</td>\n",
       "      <td>...</td>\n",
       "      <td>0</td>\n",
       "      <td>0</td>\n",
       "      <td>0</td>\n",
       "      <td>0</td>\n",
       "      <td>689</td>\n",
       "      <td>0</td>\n",
       "      <td>0</td>\n",
       "      <td>0</td>\n",
       "      <td>0</td>\n",
       "      <td>1</td>\n",
       "    </tr>\n",
       "    <tr>\n",
       "      <th>2</th>\n",
       "      <td>120000</td>\n",
       "      <td>2</td>\n",
       "      <td>2</td>\n",
       "      <td>2</td>\n",
       "      <td>26</td>\n",
       "      <td>-1</td>\n",
       "      <td>2</td>\n",
       "      <td>0</td>\n",
       "      <td>0</td>\n",
       "      <td>0</td>\n",
       "      <td>...</td>\n",
       "      <td>3272</td>\n",
       "      <td>3455</td>\n",
       "      <td>3261</td>\n",
       "      <td>0</td>\n",
       "      <td>1000</td>\n",
       "      <td>1000</td>\n",
       "      <td>1000</td>\n",
       "      <td>0</td>\n",
       "      <td>2000</td>\n",
       "      <td>1</td>\n",
       "    </tr>\n",
       "  </tbody>\n",
       "</table>\n",
       "<p>2 rows × 24 columns</p>\n",
       "</div>"
      ],
      "text/plain": [
       "    LIMIT_BAL  SEX  EDUCATION  MARRIAGE  AGE  PAY_0  PAY_2  PAY_3  PAY_4  \\\n",
       "ID                                                                         \n",
       "1       20000    2          2         1   24      2      2     -1     -1   \n",
       "2      120000    2          2         2   26     -1      2      0      0   \n",
       "\n",
       "    PAY_5  ...  BILL_AMT4  BILL_AMT5  BILL_AMT6  PAY_AMT1  PAY_AMT2  PAY_AMT3  \\\n",
       "ID         ...                                                                  \n",
       "1      -2  ...          0          0          0         0       689         0   \n",
       "2       0  ...       3272       3455       3261         0      1000      1000   \n",
       "\n",
       "    PAY_AMT4  PAY_AMT5  PAY_AMT6  default payment next month  \n",
       "ID                                                            \n",
       "1          0         0         0                           1  \n",
       "2       1000         0      2000                           1  \n",
       "\n",
       "[2 rows x 24 columns]"
      ]
     },
     "execution_count": 6,
     "metadata": {},
     "output_type": "execute_result"
    }
   ],
   "source": [
    "#la suppression des données manquants\n",
    "\n",
    "tai5=tai.dropna()\n",
    "data_propre=tai.dropna()\n",
    "tai5.head(2)"
   ]
  },
  {
   "cell_type": "markdown",
   "metadata": {},
   "source": [
    "## feature engineering "
   ]
  },
  {
   "cell_type": "code",
   "execution_count": 7,
   "metadata": {},
   "outputs": [],
   "source": [
    "#Regroupement des variables bill,paid et pay\n",
    "bill = ['BILL_AMT1', 'BILL_AMT2',\n",
    "       'BILL_AMT3', 'BILL_AMT4', 'BILL_AMT5', 'BILL_AMT6']\n",
    "paid = ['PAY_AMT1',\n",
    "       'PAY_AMT2', 'PAY_AMT3', 'PAY_AMT4', 'PAY_AMT5', 'PAY_AMT6']\n",
    "pay = ['PAY_0', 'PAY_2',\n",
    "       'PAY_3', 'PAY_4', 'PAY_5', 'PAY_6']"
   ]
  },
  {
   "cell_type": "code",
   "execution_count": 8,
   "metadata": {},
   "outputs": [
    {
     "data": {
      "text/plain": [
       "2    14030\n",
       "1    10585\n",
       "3     4917\n",
       "5      280\n",
       "4      123\n",
       "6       51\n",
       "0       14\n",
       "Name: EDUCATION, dtype: int64"
      ]
     },
     "execution_count": 8,
     "metadata": {},
     "output_type": "execute_result"
    }
   ],
   "source": [
    "#Afficher le nombre de chaque valeur dans Feature \"EDUCATION\"\n",
    "tai5.EDUCATION.value_counts()"
   ]
  },
  {
   "cell_type": "code",
   "execution_count": 9,
   "metadata": {},
   "outputs": [
    {
     "data": {
      "text/plain": [
       "2    15964\n",
       "1    13659\n",
       "3      323\n",
       "0       54\n",
       "Name: MARRIAGE, dtype: int64"
      ]
     },
     "execution_count": 9,
     "metadata": {},
     "output_type": "execute_result"
    }
   ],
   "source": [
    "#Afficher le nombre de chaque valeur dans Feature \"EDUCATION\"\n",
    "tai5.MARRIAGE.value_counts()"
   ]
  },
  {
   "cell_type": "code",
   "execution_count": 10,
   "metadata": {},
   "outputs": [],
   "source": [
    "#Remplacer les variable non attendues dans les deux colonnes \"EDUCATION\" et \"MARIAGE\"    \n",
    "fil = (tai5.EDUCATION == 5) | (tai5.EDUCATION == 6) | (tai5.EDUCATION == 0)\n",
    "tai5.loc[fil, 'EDUCATION'] = 4\n",
    "\n",
    "fil1 = (tai5.MARRIAGE== 0)\n",
    "tai5.loc[fil1, 'MARRIAGE'] = 3"
   ]
  },
  {
   "cell_type": "code",
   "execution_count": 11,
   "metadata": {},
   "outputs": [
    {
     "data": {
      "text/html": [
       "<div>\n",
       "<style scoped>\n",
       "    .dataframe tbody tr th:only-of-type {\n",
       "        vertical-align: middle;\n",
       "    }\n",
       "\n",
       "    .dataframe tbody tr th {\n",
       "        vertical-align: top;\n",
       "    }\n",
       "\n",
       "    .dataframe thead th {\n",
       "        text-align: right;\n",
       "    }\n",
       "</style>\n",
       "<table border=\"1\" class=\"dataframe\">\n",
       "  <thead>\n",
       "    <tr style=\"text-align: right;\">\n",
       "      <th></th>\n",
       "      <th>LIMIT_BAL</th>\n",
       "      <th>SEX</th>\n",
       "      <th>EDUCATION</th>\n",
       "      <th>MARRIAGE</th>\n",
       "      <th>AGE</th>\n",
       "      <th>PAY_0</th>\n",
       "      <th>PAY_2</th>\n",
       "      <th>PAY_3</th>\n",
       "      <th>PAY_4</th>\n",
       "      <th>PAY_5</th>\n",
       "      <th>...</th>\n",
       "      <th>BILL_AMT4</th>\n",
       "      <th>BILL_AMT5</th>\n",
       "      <th>BILL_AMT6</th>\n",
       "      <th>PAY_AMT1</th>\n",
       "      <th>PAY_AMT2</th>\n",
       "      <th>PAY_AMT3</th>\n",
       "      <th>PAY_AMT4</th>\n",
       "      <th>PAY_AMT5</th>\n",
       "      <th>PAY_AMT6</th>\n",
       "      <th>default payment next month</th>\n",
       "    </tr>\n",
       "    <tr>\n",
       "      <th>ID</th>\n",
       "      <th></th>\n",
       "      <th></th>\n",
       "      <th></th>\n",
       "      <th></th>\n",
       "      <th></th>\n",
       "      <th></th>\n",
       "      <th></th>\n",
       "      <th></th>\n",
       "      <th></th>\n",
       "      <th></th>\n",
       "      <th></th>\n",
       "      <th></th>\n",
       "      <th></th>\n",
       "      <th></th>\n",
       "      <th></th>\n",
       "      <th></th>\n",
       "      <th></th>\n",
       "      <th></th>\n",
       "      <th></th>\n",
       "      <th></th>\n",
       "      <th></th>\n",
       "    </tr>\n",
       "  </thead>\n",
       "  <tbody>\n",
       "    <tr>\n",
       "      <th>1</th>\n",
       "      <td>20000</td>\n",
       "      <td>2</td>\n",
       "      <td>2</td>\n",
       "      <td>1</td>\n",
       "      <td>24</td>\n",
       "      <td>2</td>\n",
       "      <td>2</td>\n",
       "      <td>-1</td>\n",
       "      <td>-1</td>\n",
       "      <td>-2</td>\n",
       "      <td>...</td>\n",
       "      <td>0</td>\n",
       "      <td>0</td>\n",
       "      <td>0</td>\n",
       "      <td>0</td>\n",
       "      <td>689</td>\n",
       "      <td>0</td>\n",
       "      <td>0</td>\n",
       "      <td>0</td>\n",
       "      <td>0</td>\n",
       "      <td>1</td>\n",
       "    </tr>\n",
       "    <tr>\n",
       "      <th>2</th>\n",
       "      <td>120000</td>\n",
       "      <td>2</td>\n",
       "      <td>2</td>\n",
       "      <td>2</td>\n",
       "      <td>26</td>\n",
       "      <td>-1</td>\n",
       "      <td>2</td>\n",
       "      <td>0</td>\n",
       "      <td>0</td>\n",
       "      <td>0</td>\n",
       "      <td>...</td>\n",
       "      <td>3272</td>\n",
       "      <td>3455</td>\n",
       "      <td>3261</td>\n",
       "      <td>0</td>\n",
       "      <td>1000</td>\n",
       "      <td>1000</td>\n",
       "      <td>1000</td>\n",
       "      <td>0</td>\n",
       "      <td>2000</td>\n",
       "      <td>1</td>\n",
       "    </tr>\n",
       "  </tbody>\n",
       "</table>\n",
       "<p>2 rows × 24 columns</p>\n",
       "</div>"
      ],
      "text/plain": [
       "    LIMIT_BAL  SEX  EDUCATION  MARRIAGE  AGE  PAY_0  PAY_2  PAY_3  PAY_4  \\\n",
       "ID                                                                         \n",
       "1       20000    2          2         1   24      2      2     -1     -1   \n",
       "2      120000    2          2         2   26     -1      2      0      0   \n",
       "\n",
       "    PAY_5  ...  BILL_AMT4  BILL_AMT5  BILL_AMT6  PAY_AMT1  PAY_AMT2  PAY_AMT3  \\\n",
       "ID         ...                                                                  \n",
       "1      -2  ...          0          0          0         0       689         0   \n",
       "2       0  ...       3272       3455       3261         0      1000      1000   \n",
       "\n",
       "    PAY_AMT4  PAY_AMT5  PAY_AMT6  default payment next month  \n",
       "ID                                                            \n",
       "1          0         0         0                           1  \n",
       "2       1000         0      2000                           1  \n",
       "\n",
       "[2 rows x 24 columns]"
      ]
     },
     "execution_count": 11,
     "metadata": {},
     "output_type": "execute_result"
    }
   ],
   "source": [
    "tai5.head(2)"
   ]
  },
  {
   "cell_type": "code",
   "execution_count": 12,
   "metadata": {},
   "outputs": [
    {
     "data": {
      "text/plain": [
       "Index(['LIMIT_BAL', 'SEX', 'EDUCATION', 'MARRIAGE', 'AGE', 'PAY_0', 'PAY_2',\n",
       "       'PAY_3', 'PAY_4', 'PAY_5', 'PAY_6', 'BILL_AMT1', 'BILL_AMT2',\n",
       "       'BILL_AMT3', 'BILL_AMT4', 'BILL_AMT5', 'BILL_AMT6', 'PAY_AMT1',\n",
       "       'PAY_AMT2', 'PAY_AMT3', 'PAY_AMT4', 'PAY_AMT5', 'PAY_AMT6',\n",
       "       'default payment next month'],\n",
       "      dtype='object')"
      ]
     },
     "execution_count": 12,
     "metadata": {},
     "output_type": "execute_result"
    }
   ],
   "source": [
    "#Affichage des colonnes de dataframe tai\n",
    "tai.columns"
   ]
  },
  {
   "cell_type": "code",
   "execution_count": 13,
   "metadata": {},
   "outputs": [],
   "source": [
    "#Faire centrer et réduire les valeurs des données tai5\n",
    "col_to_norm = ['LIMIT_BAL','BILL_AMT1', 'BILL_AMT2',\n",
    "       'BILL_AMT3', 'BILL_AMT4', 'BILL_AMT5', 'BILL_AMT6', 'PAY_AMT1',\n",
    "       'PAY_AMT2', 'PAY_AMT3', 'PAY_AMT4', 'PAY_AMT5', 'PAY_AMT6']\n",
    "tai5[col_to_norm] = tai5[col_to_norm].apply(lambda x : (x-np.mean(x))/np.std(x))"
   ]
  },
  {
   "cell_type": "code",
   "execution_count": 14,
   "metadata": {},
   "outputs": [
    {
     "data": {
      "text/html": [
       "<div>\n",
       "<style scoped>\n",
       "    .dataframe tbody tr th:only-of-type {\n",
       "        vertical-align: middle;\n",
       "    }\n",
       "\n",
       "    .dataframe tbody tr th {\n",
       "        vertical-align: top;\n",
       "    }\n",
       "\n",
       "    .dataframe thead th {\n",
       "        text-align: right;\n",
       "    }\n",
       "</style>\n",
       "<table border=\"1\" class=\"dataframe\">\n",
       "  <thead>\n",
       "    <tr style=\"text-align: right;\">\n",
       "      <th></th>\n",
       "      <th>LIMIT_BAL</th>\n",
       "      <th>SEX</th>\n",
       "      <th>EDUCATION</th>\n",
       "      <th>MARRIAGE</th>\n",
       "      <th>AGE</th>\n",
       "      <th>PAY_0</th>\n",
       "      <th>PAY_2</th>\n",
       "      <th>PAY_3</th>\n",
       "      <th>PAY_4</th>\n",
       "      <th>PAY_5</th>\n",
       "      <th>...</th>\n",
       "      <th>BILL_AMT4</th>\n",
       "      <th>BILL_AMT5</th>\n",
       "      <th>BILL_AMT6</th>\n",
       "      <th>PAY_AMT1</th>\n",
       "      <th>PAY_AMT2</th>\n",
       "      <th>PAY_AMT3</th>\n",
       "      <th>PAY_AMT4</th>\n",
       "      <th>PAY_AMT5</th>\n",
       "      <th>PAY_AMT6</th>\n",
       "      <th>default payment next month</th>\n",
       "    </tr>\n",
       "    <tr>\n",
       "      <th>ID</th>\n",
       "      <th></th>\n",
       "      <th></th>\n",
       "      <th></th>\n",
       "      <th></th>\n",
       "      <th></th>\n",
       "      <th></th>\n",
       "      <th></th>\n",
       "      <th></th>\n",
       "      <th></th>\n",
       "      <th></th>\n",
       "      <th></th>\n",
       "      <th></th>\n",
       "      <th></th>\n",
       "      <th></th>\n",
       "      <th></th>\n",
       "      <th></th>\n",
       "      <th></th>\n",
       "      <th></th>\n",
       "      <th></th>\n",
       "      <th></th>\n",
       "      <th></th>\n",
       "    </tr>\n",
       "  </thead>\n",
       "  <tbody>\n",
       "    <tr>\n",
       "      <th>1</th>\n",
       "      <td>-1.136720</td>\n",
       "      <td>2</td>\n",
       "      <td>2</td>\n",
       "      <td>1</td>\n",
       "      <td>24</td>\n",
       "      <td>2</td>\n",
       "      <td>2</td>\n",
       "      <td>-1</td>\n",
       "      <td>-1</td>\n",
       "      <td>-2</td>\n",
       "      <td>...</td>\n",
       "      <td>-0.672497</td>\n",
       "      <td>-0.663059</td>\n",
       "      <td>-0.652724</td>\n",
       "      <td>-0.341942</td>\n",
       "      <td>-0.227086</td>\n",
       "      <td>-0.296801</td>\n",
       "      <td>-0.308063</td>\n",
       "      <td>-0.314136</td>\n",
       "      <td>-0.293382</td>\n",
       "      <td>1</td>\n",
       "    </tr>\n",
       "    <tr>\n",
       "      <th>2</th>\n",
       "      <td>-0.365981</td>\n",
       "      <td>2</td>\n",
       "      <td>2</td>\n",
       "      <td>2</td>\n",
       "      <td>26</td>\n",
       "      <td>-1</td>\n",
       "      <td>2</td>\n",
       "      <td>0</td>\n",
       "      <td>0</td>\n",
       "      <td>0</td>\n",
       "      <td>...</td>\n",
       "      <td>-0.621636</td>\n",
       "      <td>-0.606229</td>\n",
       "      <td>-0.597966</td>\n",
       "      <td>-0.341942</td>\n",
       "      <td>-0.213588</td>\n",
       "      <td>-0.240005</td>\n",
       "      <td>-0.244230</td>\n",
       "      <td>-0.314136</td>\n",
       "      <td>-0.180878</td>\n",
       "      <td>1</td>\n",
       "    </tr>\n",
       "  </tbody>\n",
       "</table>\n",
       "<p>2 rows × 24 columns</p>\n",
       "</div>"
      ],
      "text/plain": [
       "    LIMIT_BAL  SEX  EDUCATION  MARRIAGE  AGE  PAY_0  PAY_2  PAY_3  PAY_4  \\\n",
       "ID                                                                         \n",
       "1   -1.136720    2          2         1   24      2      2     -1     -1   \n",
       "2   -0.365981    2          2         2   26     -1      2      0      0   \n",
       "\n",
       "    PAY_5  ...  BILL_AMT4  BILL_AMT5  BILL_AMT6  PAY_AMT1  PAY_AMT2  PAY_AMT3  \\\n",
       "ID         ...                                                                  \n",
       "1      -2  ...  -0.672497  -0.663059  -0.652724 -0.341942 -0.227086 -0.296801   \n",
       "2       0  ...  -0.621636  -0.606229  -0.597966 -0.341942 -0.213588 -0.240005   \n",
       "\n",
       "    PAY_AMT4  PAY_AMT5  PAY_AMT6  default payment next month  \n",
       "ID                                                            \n",
       "1  -0.308063 -0.314136 -0.293382                           1  \n",
       "2  -0.244230 -0.314136 -0.180878                           1  \n",
       "\n",
       "[2 rows x 24 columns]"
      ]
     },
     "execution_count": 14,
     "metadata": {},
     "output_type": "execute_result"
    }
   ],
   "source": [
    "tai5.head(2)"
   ]
  },
  {
   "cell_type": "code",
   "execution_count": 15,
   "metadata": {},
   "outputs": [
    {
     "data": {
      "text/plain": [
       " 0    14737\n",
       "-1     5686\n",
       " 1     3688\n",
       "-2     2759\n",
       " 2     2667\n",
       " 3      322\n",
       " 4       76\n",
       " 5       26\n",
       " 8       19\n",
       " 6       11\n",
       " 7        9\n",
       "Name: PAY_0, dtype: int64"
      ]
     },
     "execution_count": 15,
     "metadata": {},
     "output_type": "execute_result"
    }
   ],
   "source": [
    "tai5.PAY_0.value_counts()"
   ]
  },
  {
   "cell_type": "markdown",
   "metadata": {},
   "source": [
    "## Analyse descriptive des données"
   ]
  },
  {
   "cell_type": "code",
   "execution_count": 16,
   "metadata": {},
   "outputs": [
    {
     "data": {
      "text/html": [
       "<div>\n",
       "<style scoped>\n",
       "    .dataframe tbody tr th:only-of-type {\n",
       "        vertical-align: middle;\n",
       "    }\n",
       "\n",
       "    .dataframe tbody tr th {\n",
       "        vertical-align: top;\n",
       "    }\n",
       "\n",
       "    .dataframe thead th {\n",
       "        text-align: right;\n",
       "    }\n",
       "</style>\n",
       "<table border=\"1\" class=\"dataframe\">\n",
       "  <thead>\n",
       "    <tr style=\"text-align: right;\">\n",
       "      <th></th>\n",
       "      <th>LIMIT_BAL</th>\n",
       "      <th>SEX</th>\n",
       "      <th>EDUCATION</th>\n",
       "      <th>MARRIAGE</th>\n",
       "      <th>AGE</th>\n",
       "      <th>PAY_0</th>\n",
       "      <th>PAY_2</th>\n",
       "      <th>PAY_3</th>\n",
       "      <th>PAY_4</th>\n",
       "      <th>PAY_5</th>\n",
       "      <th>...</th>\n",
       "      <th>BILL_AMT4</th>\n",
       "      <th>BILL_AMT5</th>\n",
       "      <th>BILL_AMT6</th>\n",
       "      <th>PAY_AMT1</th>\n",
       "      <th>PAY_AMT2</th>\n",
       "      <th>PAY_AMT3</th>\n",
       "      <th>PAY_AMT4</th>\n",
       "      <th>PAY_AMT5</th>\n",
       "      <th>PAY_AMT6</th>\n",
       "      <th>default payment next month</th>\n",
       "    </tr>\n",
       "  </thead>\n",
       "  <tbody>\n",
       "    <tr>\n",
       "      <th>count</th>\n",
       "      <td>30000.000000</td>\n",
       "      <td>30000.000000</td>\n",
       "      <td>30000.000000</td>\n",
       "      <td>30000.000000</td>\n",
       "      <td>30000.000000</td>\n",
       "      <td>30000.000000</td>\n",
       "      <td>30000.000000</td>\n",
       "      <td>30000.000000</td>\n",
       "      <td>30000.000000</td>\n",
       "      <td>30000.000000</td>\n",
       "      <td>...</td>\n",
       "      <td>30000.000000</td>\n",
       "      <td>30000.000000</td>\n",
       "      <td>30000.000000</td>\n",
       "      <td>30000.000000</td>\n",
       "      <td>3.000000e+04</td>\n",
       "      <td>30000.00000</td>\n",
       "      <td>30000.000000</td>\n",
       "      <td>30000.000000</td>\n",
       "      <td>30000.000000</td>\n",
       "      <td>30000.000000</td>\n",
       "    </tr>\n",
       "    <tr>\n",
       "      <th>mean</th>\n",
       "      <td>167484.322667</td>\n",
       "      <td>1.603733</td>\n",
       "      <td>1.853133</td>\n",
       "      <td>1.551867</td>\n",
       "      <td>35.485500</td>\n",
       "      <td>-0.016700</td>\n",
       "      <td>-0.133767</td>\n",
       "      <td>-0.166200</td>\n",
       "      <td>-0.220667</td>\n",
       "      <td>-0.266200</td>\n",
       "      <td>...</td>\n",
       "      <td>43262.948967</td>\n",
       "      <td>40311.400967</td>\n",
       "      <td>38871.760400</td>\n",
       "      <td>5663.580500</td>\n",
       "      <td>5.921163e+03</td>\n",
       "      <td>5225.68150</td>\n",
       "      <td>4826.076867</td>\n",
       "      <td>4799.387633</td>\n",
       "      <td>5215.502567</td>\n",
       "      <td>0.221200</td>\n",
       "    </tr>\n",
       "    <tr>\n",
       "      <th>std</th>\n",
       "      <td>129747.661567</td>\n",
       "      <td>0.489129</td>\n",
       "      <td>0.790349</td>\n",
       "      <td>0.521970</td>\n",
       "      <td>9.217904</td>\n",
       "      <td>1.123802</td>\n",
       "      <td>1.197186</td>\n",
       "      <td>1.196868</td>\n",
       "      <td>1.169139</td>\n",
       "      <td>1.133187</td>\n",
       "      <td>...</td>\n",
       "      <td>64332.856134</td>\n",
       "      <td>60797.155770</td>\n",
       "      <td>59554.107537</td>\n",
       "      <td>16563.280354</td>\n",
       "      <td>2.304087e+04</td>\n",
       "      <td>17606.96147</td>\n",
       "      <td>15666.159744</td>\n",
       "      <td>15278.305679</td>\n",
       "      <td>17777.465775</td>\n",
       "      <td>0.415062</td>\n",
       "    </tr>\n",
       "    <tr>\n",
       "      <th>min</th>\n",
       "      <td>10000.000000</td>\n",
       "      <td>1.000000</td>\n",
       "      <td>0.000000</td>\n",
       "      <td>0.000000</td>\n",
       "      <td>21.000000</td>\n",
       "      <td>-2.000000</td>\n",
       "      <td>-2.000000</td>\n",
       "      <td>-2.000000</td>\n",
       "      <td>-2.000000</td>\n",
       "      <td>-2.000000</td>\n",
       "      <td>...</td>\n",
       "      <td>-170000.000000</td>\n",
       "      <td>-81334.000000</td>\n",
       "      <td>-339603.000000</td>\n",
       "      <td>0.000000</td>\n",
       "      <td>0.000000e+00</td>\n",
       "      <td>0.00000</td>\n",
       "      <td>0.000000</td>\n",
       "      <td>0.000000</td>\n",
       "      <td>0.000000</td>\n",
       "      <td>0.000000</td>\n",
       "    </tr>\n",
       "    <tr>\n",
       "      <th>25%</th>\n",
       "      <td>50000.000000</td>\n",
       "      <td>1.000000</td>\n",
       "      <td>1.000000</td>\n",
       "      <td>1.000000</td>\n",
       "      <td>28.000000</td>\n",
       "      <td>-1.000000</td>\n",
       "      <td>-1.000000</td>\n",
       "      <td>-1.000000</td>\n",
       "      <td>-1.000000</td>\n",
       "      <td>-1.000000</td>\n",
       "      <td>...</td>\n",
       "      <td>2326.750000</td>\n",
       "      <td>1763.000000</td>\n",
       "      <td>1256.000000</td>\n",
       "      <td>1000.000000</td>\n",
       "      <td>8.330000e+02</td>\n",
       "      <td>390.00000</td>\n",
       "      <td>296.000000</td>\n",
       "      <td>252.500000</td>\n",
       "      <td>117.750000</td>\n",
       "      <td>0.000000</td>\n",
       "    </tr>\n",
       "    <tr>\n",
       "      <th>50%</th>\n",
       "      <td>140000.000000</td>\n",
       "      <td>2.000000</td>\n",
       "      <td>2.000000</td>\n",
       "      <td>2.000000</td>\n",
       "      <td>34.000000</td>\n",
       "      <td>0.000000</td>\n",
       "      <td>0.000000</td>\n",
       "      <td>0.000000</td>\n",
       "      <td>0.000000</td>\n",
       "      <td>0.000000</td>\n",
       "      <td>...</td>\n",
       "      <td>19052.000000</td>\n",
       "      <td>18104.500000</td>\n",
       "      <td>17071.000000</td>\n",
       "      <td>2100.000000</td>\n",
       "      <td>2.009000e+03</td>\n",
       "      <td>1800.00000</td>\n",
       "      <td>1500.000000</td>\n",
       "      <td>1500.000000</td>\n",
       "      <td>1500.000000</td>\n",
       "      <td>0.000000</td>\n",
       "    </tr>\n",
       "    <tr>\n",
       "      <th>75%</th>\n",
       "      <td>240000.000000</td>\n",
       "      <td>2.000000</td>\n",
       "      <td>2.000000</td>\n",
       "      <td>2.000000</td>\n",
       "      <td>41.000000</td>\n",
       "      <td>0.000000</td>\n",
       "      <td>0.000000</td>\n",
       "      <td>0.000000</td>\n",
       "      <td>0.000000</td>\n",
       "      <td>0.000000</td>\n",
       "      <td>...</td>\n",
       "      <td>54506.000000</td>\n",
       "      <td>50190.500000</td>\n",
       "      <td>49198.250000</td>\n",
       "      <td>5006.000000</td>\n",
       "      <td>5.000000e+03</td>\n",
       "      <td>4505.00000</td>\n",
       "      <td>4013.250000</td>\n",
       "      <td>4031.500000</td>\n",
       "      <td>4000.000000</td>\n",
       "      <td>0.000000</td>\n",
       "    </tr>\n",
       "    <tr>\n",
       "      <th>max</th>\n",
       "      <td>1000000.000000</td>\n",
       "      <td>2.000000</td>\n",
       "      <td>6.000000</td>\n",
       "      <td>3.000000</td>\n",
       "      <td>79.000000</td>\n",
       "      <td>8.000000</td>\n",
       "      <td>8.000000</td>\n",
       "      <td>8.000000</td>\n",
       "      <td>8.000000</td>\n",
       "      <td>8.000000</td>\n",
       "      <td>...</td>\n",
       "      <td>891586.000000</td>\n",
       "      <td>927171.000000</td>\n",
       "      <td>961664.000000</td>\n",
       "      <td>873552.000000</td>\n",
       "      <td>1.684259e+06</td>\n",
       "      <td>896040.00000</td>\n",
       "      <td>621000.000000</td>\n",
       "      <td>426529.000000</td>\n",
       "      <td>528666.000000</td>\n",
       "      <td>1.000000</td>\n",
       "    </tr>\n",
       "  </tbody>\n",
       "</table>\n",
       "<p>8 rows × 24 columns</p>\n",
       "</div>"
      ],
      "text/plain": [
       "            LIMIT_BAL           SEX     EDUCATION      MARRIAGE           AGE  \\\n",
       "count    30000.000000  30000.000000  30000.000000  30000.000000  30000.000000   \n",
       "mean    167484.322667      1.603733      1.853133      1.551867     35.485500   \n",
       "std     129747.661567      0.489129      0.790349      0.521970      9.217904   \n",
       "min      10000.000000      1.000000      0.000000      0.000000     21.000000   \n",
       "25%      50000.000000      1.000000      1.000000      1.000000     28.000000   \n",
       "50%     140000.000000      2.000000      2.000000      2.000000     34.000000   \n",
       "75%     240000.000000      2.000000      2.000000      2.000000     41.000000   \n",
       "max    1000000.000000      2.000000      6.000000      3.000000     79.000000   \n",
       "\n",
       "              PAY_0         PAY_2         PAY_3         PAY_4         PAY_5  \\\n",
       "count  30000.000000  30000.000000  30000.000000  30000.000000  30000.000000   \n",
       "mean      -0.016700     -0.133767     -0.166200     -0.220667     -0.266200   \n",
       "std        1.123802      1.197186      1.196868      1.169139      1.133187   \n",
       "min       -2.000000     -2.000000     -2.000000     -2.000000     -2.000000   \n",
       "25%       -1.000000     -1.000000     -1.000000     -1.000000     -1.000000   \n",
       "50%        0.000000      0.000000      0.000000      0.000000      0.000000   \n",
       "75%        0.000000      0.000000      0.000000      0.000000      0.000000   \n",
       "max        8.000000      8.000000      8.000000      8.000000      8.000000   \n",
       "\n",
       "       ...      BILL_AMT4      BILL_AMT5      BILL_AMT6       PAY_AMT1  \\\n",
       "count  ...   30000.000000   30000.000000   30000.000000   30000.000000   \n",
       "mean   ...   43262.948967   40311.400967   38871.760400    5663.580500   \n",
       "std    ...   64332.856134   60797.155770   59554.107537   16563.280354   \n",
       "min    ... -170000.000000  -81334.000000 -339603.000000       0.000000   \n",
       "25%    ...    2326.750000    1763.000000    1256.000000    1000.000000   \n",
       "50%    ...   19052.000000   18104.500000   17071.000000    2100.000000   \n",
       "75%    ...   54506.000000   50190.500000   49198.250000    5006.000000   \n",
       "max    ...  891586.000000  927171.000000  961664.000000  873552.000000   \n",
       "\n",
       "           PAY_AMT2      PAY_AMT3       PAY_AMT4       PAY_AMT5  \\\n",
       "count  3.000000e+04   30000.00000   30000.000000   30000.000000   \n",
       "mean   5.921163e+03    5225.68150    4826.076867    4799.387633   \n",
       "std    2.304087e+04   17606.96147   15666.159744   15278.305679   \n",
       "min    0.000000e+00       0.00000       0.000000       0.000000   \n",
       "25%    8.330000e+02     390.00000     296.000000     252.500000   \n",
       "50%    2.009000e+03    1800.00000    1500.000000    1500.000000   \n",
       "75%    5.000000e+03    4505.00000    4013.250000    4031.500000   \n",
       "max    1.684259e+06  896040.00000  621000.000000  426529.000000   \n",
       "\n",
       "            PAY_AMT6  default payment next month  \n",
       "count   30000.000000                30000.000000  \n",
       "mean     5215.502567                    0.221200  \n",
       "std     17777.465775                    0.415062  \n",
       "min         0.000000                    0.000000  \n",
       "25%       117.750000                    0.000000  \n",
       "50%      1500.000000                    0.000000  \n",
       "75%      4000.000000                    0.000000  \n",
       "max    528666.000000                    1.000000  \n",
       "\n",
       "[8 rows x 24 columns]"
      ]
     },
     "execution_count": 16,
     "metadata": {},
     "output_type": "execute_result"
    }
   ],
   "source": [
    "#Réaliser une analyse descriptive\n",
    "data_propre.describe()"
   ]
  },
  {
   "cell_type": "code",
   "execution_count": 17,
   "metadata": {},
   "outputs": [
    {
     "data": {
      "text/plain": [
       "LIMIT_BAL                      16.410087\n",
       "SEX                            24.709012\n",
       "EDUCATION                       7.925316\n",
       "MARRIAGE                       28.877051\n",
       "AGE                             4.186217\n",
       "PAY_0                         100.000000\n",
       "PAY_2                         100.000000\n",
       "PAY_3                         100.000000\n",
       "PAY_4                         100.000000\n",
       "PAY_5                         100.000000\n",
       "PAY_6                         100.000000\n",
       "BILL_AMT1                      56.306043\n",
       "BILL_AMT2                      56.892235\n",
       "BILL_AMT3                      57.270470\n",
       "BILL_AMT4                      55.962318\n",
       "BILL_AMT5                      55.088388\n",
       "BILL_AMT6                      56.083800\n",
       "PAY_AMT1                       62.920983\n",
       "PAY_AMT2                       66.070858\n",
       "PAY_AMT3                       65.554732\n",
       "PAY_AMT4                       68.918854\n",
       "PAY_AMT5                       68.746013\n",
       "PAY_AMT6                       71.239588\n",
       "default payment next month    100.000000\n",
       "dtype: float64"
      ]
     },
     "execution_count": 17,
     "metadata": {},
     "output_type": "execute_result"
    }
   ],
   "source": [
    "#Tester la variation entre la moyenne et la médiane\n",
    "abs(   (data_propre.mean() - data_propre.median()) / (data_propre.mean()) )*100"
   ]
  },
  {
   "cell_type": "code",
   "execution_count": 18,
   "metadata": {},
   "outputs": [
    {
     "data": {
      "image/png": "[encoded data removed]",
      "text/plain": [
       "<Figure size 1296x576 with 1 Axes>"
      ]
     },
     "metadata": {
      "needs_background": "light"
     },
     "output_type": "display_data"
    }
   ],
   "source": [
    "# Visualiser les points abérants\n",
    "data_propre.boxplot(figsize=(18,8));"
   ]
  },
  {
   "cell_type": "code",
   "execution_count": 19,
   "metadata": {},
   "outputs": [],
   "source": [
    "# limiter 3 chiffres aprés la vigule\n",
    "pd.options.display.float_format = '{:,.3f}'.format"
   ]
  },
  {
   "cell_type": "code",
   "execution_count": 20,
   "metadata": {},
   "outputs": [
    {
     "data": {
      "text/html": [
       "<div>\n",
       "<style scoped>\n",
       "    .dataframe tbody tr th:only-of-type {\n",
       "        vertical-align: middle;\n",
       "    }\n",
       "\n",
       "    .dataframe tbody tr th {\n",
       "        vertical-align: top;\n",
       "    }\n",
       "\n",
       "    .dataframe thead th {\n",
       "        text-align: right;\n",
       "    }\n",
       "</style>\n",
       "<table border=\"1\" class=\"dataframe\">\n",
       "  <thead>\n",
       "    <tr style=\"text-align: right;\">\n",
       "      <th></th>\n",
       "      <th>LIMIT_BAL</th>\n",
       "      <th>SEX</th>\n",
       "      <th>EDUCATION</th>\n",
       "      <th>MARRIAGE</th>\n",
       "      <th>AGE</th>\n",
       "      <th>PAY_0</th>\n",
       "      <th>PAY_2</th>\n",
       "      <th>PAY_3</th>\n",
       "      <th>PAY_4</th>\n",
       "      <th>PAY_5</th>\n",
       "      <th>...</th>\n",
       "      <th>BILL_AMT4</th>\n",
       "      <th>BILL_AMT5</th>\n",
       "      <th>BILL_AMT6</th>\n",
       "      <th>PAY_AMT1</th>\n",
       "      <th>PAY_AMT2</th>\n",
       "      <th>PAY_AMT3</th>\n",
       "      <th>PAY_AMT4</th>\n",
       "      <th>PAY_AMT5</th>\n",
       "      <th>PAY_AMT6</th>\n",
       "      <th>default payment next month</th>\n",
       "    </tr>\n",
       "  </thead>\n",
       "  <tbody>\n",
       "    <tr>\n",
       "      <th>LIMIT_BAL</th>\n",
       "      <td>1.000</td>\n",
       "      <td>0.025</td>\n",
       "      <td>-0.219</td>\n",
       "      <td>-0.108</td>\n",
       "      <td>0.145</td>\n",
       "      <td>-0.271</td>\n",
       "      <td>-0.296</td>\n",
       "      <td>-0.286</td>\n",
       "      <td>-0.267</td>\n",
       "      <td>-0.249</td>\n",
       "      <td>...</td>\n",
       "      <td>0.294</td>\n",
       "      <td>0.296</td>\n",
       "      <td>0.290</td>\n",
       "      <td>0.195</td>\n",
       "      <td>0.178</td>\n",
       "      <td>0.210</td>\n",
       "      <td>0.203</td>\n",
       "      <td>0.217</td>\n",
       "      <td>0.220</td>\n",
       "      <td>-0.154</td>\n",
       "    </tr>\n",
       "    <tr>\n",
       "      <th>SEX</th>\n",
       "      <td>0.025</td>\n",
       "      <td>1.000</td>\n",
       "      <td>0.014</td>\n",
       "      <td>-0.031</td>\n",
       "      <td>-0.091</td>\n",
       "      <td>-0.058</td>\n",
       "      <td>-0.071</td>\n",
       "      <td>-0.066</td>\n",
       "      <td>-0.060</td>\n",
       "      <td>-0.055</td>\n",
       "      <td>...</td>\n",
       "      <td>-0.022</td>\n",
       "      <td>-0.017</td>\n",
       "      <td>-0.017</td>\n",
       "      <td>-0.000</td>\n",
       "      <td>-0.001</td>\n",
       "      <td>-0.009</td>\n",
       "      <td>-0.002</td>\n",
       "      <td>-0.002</td>\n",
       "      <td>-0.003</td>\n",
       "      <td>-0.040</td>\n",
       "    </tr>\n",
       "    <tr>\n",
       "      <th>EDUCATION</th>\n",
       "      <td>-0.219</td>\n",
       "      <td>0.014</td>\n",
       "      <td>1.000</td>\n",
       "      <td>-0.143</td>\n",
       "      <td>0.175</td>\n",
       "      <td>0.105</td>\n",
       "      <td>0.122</td>\n",
       "      <td>0.114</td>\n",
       "      <td>0.109</td>\n",
       "      <td>0.098</td>\n",
       "      <td>...</td>\n",
       "      <td>-0.000</td>\n",
       "      <td>-0.008</td>\n",
       "      <td>-0.009</td>\n",
       "      <td>-0.037</td>\n",
       "      <td>-0.030</td>\n",
       "      <td>-0.040</td>\n",
       "      <td>-0.038</td>\n",
       "      <td>-0.040</td>\n",
       "      <td>-0.037</td>\n",
       "      <td>0.028</td>\n",
       "    </tr>\n",
       "    <tr>\n",
       "      <th>MARRIAGE</th>\n",
       "      <td>-0.108</td>\n",
       "      <td>-0.031</td>\n",
       "      <td>-0.143</td>\n",
       "      <td>1.000</td>\n",
       "      <td>-0.414</td>\n",
       "      <td>0.020</td>\n",
       "      <td>0.024</td>\n",
       "      <td>0.033</td>\n",
       "      <td>0.033</td>\n",
       "      <td>0.036</td>\n",
       "      <td>...</td>\n",
       "      <td>-0.023</td>\n",
       "      <td>-0.025</td>\n",
       "      <td>-0.021</td>\n",
       "      <td>-0.006</td>\n",
       "      <td>-0.008</td>\n",
       "      <td>-0.004</td>\n",
       "      <td>-0.013</td>\n",
       "      <td>-0.001</td>\n",
       "      <td>-0.007</td>\n",
       "      <td>-0.024</td>\n",
       "    </tr>\n",
       "    <tr>\n",
       "      <th>AGE</th>\n",
       "      <td>0.145</td>\n",
       "      <td>-0.091</td>\n",
       "      <td>0.175</td>\n",
       "      <td>-0.414</td>\n",
       "      <td>1.000</td>\n",
       "      <td>-0.039</td>\n",
       "      <td>-0.050</td>\n",
       "      <td>-0.053</td>\n",
       "      <td>-0.050</td>\n",
       "      <td>-0.054</td>\n",
       "      <td>...</td>\n",
       "      <td>0.051</td>\n",
       "      <td>0.049</td>\n",
       "      <td>0.048</td>\n",
       "      <td>0.026</td>\n",
       "      <td>0.022</td>\n",
       "      <td>0.029</td>\n",
       "      <td>0.021</td>\n",
       "      <td>0.023</td>\n",
       "      <td>0.019</td>\n",
       "      <td>0.014</td>\n",
       "    </tr>\n",
       "    <tr>\n",
       "      <th>PAY_0</th>\n",
       "      <td>-0.271</td>\n",
       "      <td>-0.058</td>\n",
       "      <td>0.105</td>\n",
       "      <td>0.020</td>\n",
       "      <td>-0.039</td>\n",
       "      <td>1.000</td>\n",
       "      <td>0.672</td>\n",
       "      <td>0.574</td>\n",
       "      <td>0.539</td>\n",
       "      <td>0.509</td>\n",
       "      <td>...</td>\n",
       "      <td>0.179</td>\n",
       "      <td>0.181</td>\n",
       "      <td>0.177</td>\n",
       "      <td>-0.079</td>\n",
       "      <td>-0.070</td>\n",
       "      <td>-0.071</td>\n",
       "      <td>-0.064</td>\n",
       "      <td>-0.058</td>\n",
       "      <td>-0.059</td>\n",
       "      <td>0.325</td>\n",
       "    </tr>\n",
       "    <tr>\n",
       "      <th>PAY_2</th>\n",
       "      <td>-0.296</td>\n",
       "      <td>-0.071</td>\n",
       "      <td>0.122</td>\n",
       "      <td>0.024</td>\n",
       "      <td>-0.050</td>\n",
       "      <td>0.672</td>\n",
       "      <td>1.000</td>\n",
       "      <td>0.767</td>\n",
       "      <td>0.662</td>\n",
       "      <td>0.623</td>\n",
       "      <td>...</td>\n",
       "      <td>0.222</td>\n",
       "      <td>0.221</td>\n",
       "      <td>0.219</td>\n",
       "      <td>-0.081</td>\n",
       "      <td>-0.059</td>\n",
       "      <td>-0.056</td>\n",
       "      <td>-0.047</td>\n",
       "      <td>-0.037</td>\n",
       "      <td>-0.037</td>\n",
       "      <td>0.264</td>\n",
       "    </tr>\n",
       "    <tr>\n",
       "      <th>PAY_3</th>\n",
       "      <td>-0.286</td>\n",
       "      <td>-0.066</td>\n",
       "      <td>0.114</td>\n",
       "      <td>0.033</td>\n",
       "      <td>-0.053</td>\n",
       "      <td>0.574</td>\n",
       "      <td>0.767</td>\n",
       "      <td>1.000</td>\n",
       "      <td>0.777</td>\n",
       "      <td>0.687</td>\n",
       "      <td>...</td>\n",
       "      <td>0.227</td>\n",
       "      <td>0.225</td>\n",
       "      <td>0.222</td>\n",
       "      <td>0.001</td>\n",
       "      <td>-0.067</td>\n",
       "      <td>-0.053</td>\n",
       "      <td>-0.046</td>\n",
       "      <td>-0.036</td>\n",
       "      <td>-0.036</td>\n",
       "      <td>0.235</td>\n",
       "    </tr>\n",
       "    <tr>\n",
       "      <th>PAY_4</th>\n",
       "      <td>-0.267</td>\n",
       "      <td>-0.060</td>\n",
       "      <td>0.109</td>\n",
       "      <td>0.033</td>\n",
       "      <td>-0.050</td>\n",
       "      <td>0.539</td>\n",
       "      <td>0.662</td>\n",
       "      <td>0.777</td>\n",
       "      <td>1.000</td>\n",
       "      <td>0.820</td>\n",
       "      <td>...</td>\n",
       "      <td>0.246</td>\n",
       "      <td>0.243</td>\n",
       "      <td>0.239</td>\n",
       "      <td>-0.009</td>\n",
       "      <td>-0.002</td>\n",
       "      <td>-0.069</td>\n",
       "      <td>-0.043</td>\n",
       "      <td>-0.034</td>\n",
       "      <td>-0.027</td>\n",
       "      <td>0.217</td>\n",
       "    </tr>\n",
       "    <tr>\n",
       "      <th>PAY_5</th>\n",
       "      <td>-0.249</td>\n",
       "      <td>-0.055</td>\n",
       "      <td>0.098</td>\n",
       "      <td>0.036</td>\n",
       "      <td>-0.054</td>\n",
       "      <td>0.509</td>\n",
       "      <td>0.623</td>\n",
       "      <td>0.687</td>\n",
       "      <td>0.820</td>\n",
       "      <td>1.000</td>\n",
       "      <td>...</td>\n",
       "      <td>0.272</td>\n",
       "      <td>0.270</td>\n",
       "      <td>0.263</td>\n",
       "      <td>-0.006</td>\n",
       "      <td>-0.003</td>\n",
       "      <td>0.009</td>\n",
       "      <td>-0.058</td>\n",
       "      <td>-0.033</td>\n",
       "      <td>-0.023</td>\n",
       "      <td>0.204</td>\n",
       "    </tr>\n",
       "    <tr>\n",
       "      <th>PAY_6</th>\n",
       "      <td>-0.235</td>\n",
       "      <td>-0.044</td>\n",
       "      <td>0.082</td>\n",
       "      <td>0.034</td>\n",
       "      <td>-0.049</td>\n",
       "      <td>0.475</td>\n",
       "      <td>0.576</td>\n",
       "      <td>0.633</td>\n",
       "      <td>0.716</td>\n",
       "      <td>0.817</td>\n",
       "      <td>...</td>\n",
       "      <td>0.266</td>\n",
       "      <td>0.291</td>\n",
       "      <td>0.285</td>\n",
       "      <td>-0.001</td>\n",
       "      <td>-0.005</td>\n",
       "      <td>0.006</td>\n",
       "      <td>0.019</td>\n",
       "      <td>-0.046</td>\n",
       "      <td>-0.025</td>\n",
       "      <td>0.187</td>\n",
       "    </tr>\n",
       "    <tr>\n",
       "      <th>BILL_AMT1</th>\n",
       "      <td>0.285</td>\n",
       "      <td>-0.034</td>\n",
       "      <td>0.024</td>\n",
       "      <td>-0.023</td>\n",
       "      <td>0.056</td>\n",
       "      <td>0.187</td>\n",
       "      <td>0.235</td>\n",
       "      <td>0.208</td>\n",
       "      <td>0.203</td>\n",
       "      <td>0.207</td>\n",
       "      <td>...</td>\n",
       "      <td>0.860</td>\n",
       "      <td>0.830</td>\n",
       "      <td>0.803</td>\n",
       "      <td>0.140</td>\n",
       "      <td>0.099</td>\n",
       "      <td>0.157</td>\n",
       "      <td>0.158</td>\n",
       "      <td>0.167</td>\n",
       "      <td>0.179</td>\n",
       "      <td>-0.020</td>\n",
       "    </tr>\n",
       "    <tr>\n",
       "      <th>BILL_AMT2</th>\n",
       "      <td>0.278</td>\n",
       "      <td>-0.031</td>\n",
       "      <td>0.019</td>\n",
       "      <td>-0.022</td>\n",
       "      <td>0.054</td>\n",
       "      <td>0.190</td>\n",
       "      <td>0.235</td>\n",
       "      <td>0.237</td>\n",
       "      <td>0.226</td>\n",
       "      <td>0.227</td>\n",
       "      <td>...</td>\n",
       "      <td>0.892</td>\n",
       "      <td>0.860</td>\n",
       "      <td>0.832</td>\n",
       "      <td>0.280</td>\n",
       "      <td>0.101</td>\n",
       "      <td>0.151</td>\n",
       "      <td>0.147</td>\n",
       "      <td>0.158</td>\n",
       "      <td>0.174</td>\n",
       "      <td>-0.014</td>\n",
       "    </tr>\n",
       "    <tr>\n",
       "      <th>BILL_AMT3</th>\n",
       "      <td>0.283</td>\n",
       "      <td>-0.025</td>\n",
       "      <td>0.013</td>\n",
       "      <td>-0.025</td>\n",
       "      <td>0.054</td>\n",
       "      <td>0.180</td>\n",
       "      <td>0.224</td>\n",
       "      <td>0.227</td>\n",
       "      <td>0.245</td>\n",
       "      <td>0.243</td>\n",
       "      <td>...</td>\n",
       "      <td>0.924</td>\n",
       "      <td>0.884</td>\n",
       "      <td>0.853</td>\n",
       "      <td>0.244</td>\n",
       "      <td>0.317</td>\n",
       "      <td>0.130</td>\n",
       "      <td>0.143</td>\n",
       "      <td>0.180</td>\n",
       "      <td>0.182</td>\n",
       "      <td>-0.014</td>\n",
       "    </tr>\n",
       "    <tr>\n",
       "      <th>BILL_AMT4</th>\n",
       "      <td>0.294</td>\n",
       "      <td>-0.022</td>\n",
       "      <td>-0.000</td>\n",
       "      <td>-0.023</td>\n",
       "      <td>0.051</td>\n",
       "      <td>0.179</td>\n",
       "      <td>0.222</td>\n",
       "      <td>0.227</td>\n",
       "      <td>0.246</td>\n",
       "      <td>0.272</td>\n",
       "      <td>...</td>\n",
       "      <td>1.000</td>\n",
       "      <td>0.940</td>\n",
       "      <td>0.901</td>\n",
       "      <td>0.233</td>\n",
       "      <td>0.208</td>\n",
       "      <td>0.300</td>\n",
       "      <td>0.130</td>\n",
       "      <td>0.160</td>\n",
       "      <td>0.178</td>\n",
       "      <td>-0.010</td>\n",
       "    </tr>\n",
       "    <tr>\n",
       "      <th>BILL_AMT5</th>\n",
       "      <td>0.296</td>\n",
       "      <td>-0.017</td>\n",
       "      <td>-0.008</td>\n",
       "      <td>-0.025</td>\n",
       "      <td>0.049</td>\n",
       "      <td>0.181</td>\n",
       "      <td>0.221</td>\n",
       "      <td>0.225</td>\n",
       "      <td>0.243</td>\n",
       "      <td>0.270</td>\n",
       "      <td>...</td>\n",
       "      <td>0.940</td>\n",
       "      <td>1.000</td>\n",
       "      <td>0.946</td>\n",
       "      <td>0.217</td>\n",
       "      <td>0.181</td>\n",
       "      <td>0.252</td>\n",
       "      <td>0.293</td>\n",
       "      <td>0.142</td>\n",
       "      <td>0.164</td>\n",
       "      <td>-0.007</td>\n",
       "    </tr>\n",
       "    <tr>\n",
       "      <th>BILL_AMT6</th>\n",
       "      <td>0.290</td>\n",
       "      <td>-0.017</td>\n",
       "      <td>-0.009</td>\n",
       "      <td>-0.021</td>\n",
       "      <td>0.048</td>\n",
       "      <td>0.177</td>\n",
       "      <td>0.219</td>\n",
       "      <td>0.222</td>\n",
       "      <td>0.239</td>\n",
       "      <td>0.263</td>\n",
       "      <td>...</td>\n",
       "      <td>0.901</td>\n",
       "      <td>0.946</td>\n",
       "      <td>1.000</td>\n",
       "      <td>0.200</td>\n",
       "      <td>0.173</td>\n",
       "      <td>0.234</td>\n",
       "      <td>0.250</td>\n",
       "      <td>0.308</td>\n",
       "      <td>0.115</td>\n",
       "      <td>-0.005</td>\n",
       "    </tr>\n",
       "    <tr>\n",
       "      <th>PAY_AMT1</th>\n",
       "      <td>0.195</td>\n",
       "      <td>-0.000</td>\n",
       "      <td>-0.037</td>\n",
       "      <td>-0.006</td>\n",
       "      <td>0.026</td>\n",
       "      <td>-0.079</td>\n",
       "      <td>-0.081</td>\n",
       "      <td>0.001</td>\n",
       "      <td>-0.009</td>\n",
       "      <td>-0.006</td>\n",
       "      <td>...</td>\n",
       "      <td>0.233</td>\n",
       "      <td>0.217</td>\n",
       "      <td>0.200</td>\n",
       "      <td>1.000</td>\n",
       "      <td>0.286</td>\n",
       "      <td>0.252</td>\n",
       "      <td>0.200</td>\n",
       "      <td>0.148</td>\n",
       "      <td>0.186</td>\n",
       "      <td>-0.073</td>\n",
       "    </tr>\n",
       "    <tr>\n",
       "      <th>PAY_AMT2</th>\n",
       "      <td>0.178</td>\n",
       "      <td>-0.001</td>\n",
       "      <td>-0.030</td>\n",
       "      <td>-0.008</td>\n",
       "      <td>0.022</td>\n",
       "      <td>-0.070</td>\n",
       "      <td>-0.059</td>\n",
       "      <td>-0.067</td>\n",
       "      <td>-0.002</td>\n",
       "      <td>-0.003</td>\n",
       "      <td>...</td>\n",
       "      <td>0.208</td>\n",
       "      <td>0.181</td>\n",
       "      <td>0.173</td>\n",
       "      <td>0.286</td>\n",
       "      <td>1.000</td>\n",
       "      <td>0.245</td>\n",
       "      <td>0.180</td>\n",
       "      <td>0.181</td>\n",
       "      <td>0.158</td>\n",
       "      <td>-0.059</td>\n",
       "    </tr>\n",
       "    <tr>\n",
       "      <th>PAY_AMT3</th>\n",
       "      <td>0.210</td>\n",
       "      <td>-0.009</td>\n",
       "      <td>-0.040</td>\n",
       "      <td>-0.004</td>\n",
       "      <td>0.029</td>\n",
       "      <td>-0.071</td>\n",
       "      <td>-0.056</td>\n",
       "      <td>-0.053</td>\n",
       "      <td>-0.069</td>\n",
       "      <td>0.009</td>\n",
       "      <td>...</td>\n",
       "      <td>0.300</td>\n",
       "      <td>0.252</td>\n",
       "      <td>0.234</td>\n",
       "      <td>0.252</td>\n",
       "      <td>0.245</td>\n",
       "      <td>1.000</td>\n",
       "      <td>0.216</td>\n",
       "      <td>0.159</td>\n",
       "      <td>0.163</td>\n",
       "      <td>-0.056</td>\n",
       "    </tr>\n",
       "    <tr>\n",
       "      <th>PAY_AMT4</th>\n",
       "      <td>0.203</td>\n",
       "      <td>-0.002</td>\n",
       "      <td>-0.038</td>\n",
       "      <td>-0.013</td>\n",
       "      <td>0.021</td>\n",
       "      <td>-0.064</td>\n",
       "      <td>-0.047</td>\n",
       "      <td>-0.046</td>\n",
       "      <td>-0.043</td>\n",
       "      <td>-0.058</td>\n",
       "      <td>...</td>\n",
       "      <td>0.130</td>\n",
       "      <td>0.293</td>\n",
       "      <td>0.250</td>\n",
       "      <td>0.200</td>\n",
       "      <td>0.180</td>\n",
       "      <td>0.216</td>\n",
       "      <td>1.000</td>\n",
       "      <td>0.152</td>\n",
       "      <td>0.158</td>\n",
       "      <td>-0.057</td>\n",
       "    </tr>\n",
       "    <tr>\n",
       "      <th>PAY_AMT5</th>\n",
       "      <td>0.217</td>\n",
       "      <td>-0.002</td>\n",
       "      <td>-0.040</td>\n",
       "      <td>-0.001</td>\n",
       "      <td>0.023</td>\n",
       "      <td>-0.058</td>\n",
       "      <td>-0.037</td>\n",
       "      <td>-0.036</td>\n",
       "      <td>-0.034</td>\n",
       "      <td>-0.033</td>\n",
       "      <td>...</td>\n",
       "      <td>0.160</td>\n",
       "      <td>0.142</td>\n",
       "      <td>0.308</td>\n",
       "      <td>0.148</td>\n",
       "      <td>0.181</td>\n",
       "      <td>0.159</td>\n",
       "      <td>0.152</td>\n",
       "      <td>1.000</td>\n",
       "      <td>0.155</td>\n",
       "      <td>-0.055</td>\n",
       "    </tr>\n",
       "    <tr>\n",
       "      <th>PAY_AMT6</th>\n",
       "      <td>0.220</td>\n",
       "      <td>-0.003</td>\n",
       "      <td>-0.037</td>\n",
       "      <td>-0.007</td>\n",
       "      <td>0.019</td>\n",
       "      <td>-0.059</td>\n",
       "      <td>-0.037</td>\n",
       "      <td>-0.036</td>\n",
       "      <td>-0.027</td>\n",
       "      <td>-0.023</td>\n",
       "      <td>...</td>\n",
       "      <td>0.178</td>\n",
       "      <td>0.164</td>\n",
       "      <td>0.115</td>\n",
       "      <td>0.186</td>\n",
       "      <td>0.158</td>\n",
       "      <td>0.163</td>\n",
       "      <td>0.158</td>\n",
       "      <td>0.155</td>\n",
       "      <td>1.000</td>\n",
       "      <td>-0.053</td>\n",
       "    </tr>\n",
       "    <tr>\n",
       "      <th>default payment next month</th>\n",
       "      <td>-0.154</td>\n",
       "      <td>-0.040</td>\n",
       "      <td>0.028</td>\n",
       "      <td>-0.024</td>\n",
       "      <td>0.014</td>\n",
       "      <td>0.325</td>\n",
       "      <td>0.264</td>\n",
       "      <td>0.235</td>\n",
       "      <td>0.217</td>\n",
       "      <td>0.204</td>\n",
       "      <td>...</td>\n",
       "      <td>-0.010</td>\n",
       "      <td>-0.007</td>\n",
       "      <td>-0.005</td>\n",
       "      <td>-0.073</td>\n",
       "      <td>-0.059</td>\n",
       "      <td>-0.056</td>\n",
       "      <td>-0.057</td>\n",
       "      <td>-0.055</td>\n",
       "      <td>-0.053</td>\n",
       "      <td>1.000</td>\n",
       "    </tr>\n",
       "  </tbody>\n",
       "</table>\n",
       "<p>24 rows × 24 columns</p>\n",
       "</div>"
      ],
      "text/plain": [
       "                            LIMIT_BAL    SEX  EDUCATION  MARRIAGE    AGE  \\\n",
       "LIMIT_BAL                       1.000  0.025     -0.219    -0.108  0.145   \n",
       "SEX                             0.025  1.000      0.014    -0.031 -0.091   \n",
       "EDUCATION                      -0.219  0.014      1.000    -0.143  0.175   \n",
       "MARRIAGE                       -0.108 -0.031     -0.143     1.000 -0.414   \n",
       "AGE                             0.145 -0.091      0.175    -0.414  1.000   \n",
       "PAY_0                          -0.271 -0.058      0.105     0.020 -0.039   \n",
       "PAY_2                          -0.296 -0.071      0.122     0.024 -0.050   \n",
       "PAY_3                          -0.286 -0.066      0.114     0.033 -0.053   \n",
       "PAY_4                          -0.267 -0.060      0.109     0.033 -0.050   \n",
       "PAY_5                          -0.249 -0.055      0.098     0.036 -0.054   \n",
       "PAY_6                          -0.235 -0.044      0.082     0.034 -0.049   \n",
       "BILL_AMT1                       0.285 -0.034      0.024    -0.023  0.056   \n",
       "BILL_AMT2                       0.278 -0.031      0.019    -0.022  0.054   \n",
       "BILL_AMT3                       0.283 -0.025      0.013    -0.025  0.054   \n",
       "BILL_AMT4                       0.294 -0.022     -0.000    -0.023  0.051   \n",
       "BILL_AMT5                       0.296 -0.017     -0.008    -0.025  0.049   \n",
       "BILL_AMT6                       0.290 -0.017     -0.009    -0.021  0.048   \n",
       "PAY_AMT1                        0.195 -0.000     -0.037    -0.006  0.026   \n",
       "PAY_AMT2                        0.178 -0.001     -0.030    -0.008  0.022   \n",
       "PAY_AMT3                        0.210 -0.009     -0.040    -0.004  0.029   \n",
       "PAY_AMT4                        0.203 -0.002     -0.038    -0.013  0.021   \n",
       "PAY_AMT5                        0.217 -0.002     -0.040    -0.001  0.023   \n",
       "PAY_AMT6                        0.220 -0.003     -0.037    -0.007  0.019   \n",
       "default payment next month     -0.154 -0.040      0.028    -0.024  0.014   \n",
       "\n",
       "                            PAY_0  PAY_2  PAY_3  PAY_4  PAY_5  ...  BILL_AMT4  \\\n",
       "LIMIT_BAL                  -0.271 -0.296 -0.286 -0.267 -0.249  ...      0.294   \n",
       "SEX                        -0.058 -0.071 -0.066 -0.060 -0.055  ...     -0.022   \n",
       "EDUCATION                   0.105  0.122  0.114  0.109  0.098  ...     -0.000   \n",
       "MARRIAGE                    0.020  0.024  0.033  0.033  0.036  ...     -0.023   \n",
       "AGE                        -0.039 -0.050 -0.053 -0.050 -0.054  ...      0.051   \n",
       "PAY_0                       1.000  0.672  0.574  0.539  0.509  ...      0.179   \n",
       "PAY_2                       0.672  1.000  0.767  0.662  0.623  ...      0.222   \n",
       "PAY_3                       0.574  0.767  1.000  0.777  0.687  ...      0.227   \n",
       "PAY_4                       0.539  0.662  0.777  1.000  0.820  ...      0.246   \n",
       "PAY_5                       0.509  0.623  0.687  0.820  1.000  ...      0.272   \n",
       "PAY_6                       0.475  0.576  0.633  0.716  0.817  ...      0.266   \n",
       "BILL_AMT1                   0.187  0.235  0.208  0.203  0.207  ...      0.860   \n",
       "BILL_AMT2                   0.190  0.235  0.237  0.226  0.227  ...      0.892   \n",
       "BILL_AMT3                   0.180  0.224  0.227  0.245  0.243  ...      0.924   \n",
       "BILL_AMT4                   0.179  0.222  0.227  0.246  0.272  ...      1.000   \n",
       "BILL_AMT5                   0.181  0.221  0.225  0.243  0.270  ...      0.940   \n",
       "BILL_AMT6                   0.177  0.219  0.222  0.239  0.263  ...      0.901   \n",
       "PAY_AMT1                   -0.079 -0.081  0.001 -0.009 -0.006  ...      0.233   \n",
       "PAY_AMT2                   -0.070 -0.059 -0.067 -0.002 -0.003  ...      0.208   \n",
       "PAY_AMT3                   -0.071 -0.056 -0.053 -0.069  0.009  ...      0.300   \n",
       "PAY_AMT4                   -0.064 -0.047 -0.046 -0.043 -0.058  ...      0.130   \n",
       "PAY_AMT5                   -0.058 -0.037 -0.036 -0.034 -0.033  ...      0.160   \n",
       "PAY_AMT6                   -0.059 -0.037 -0.036 -0.027 -0.023  ...      0.178   \n",
       "default payment next month  0.325  0.264  0.235  0.217  0.204  ...     -0.010   \n",
       "\n",
       "                            BILL_AMT5  BILL_AMT6  PAY_AMT1  PAY_AMT2  \\\n",
       "LIMIT_BAL                       0.296      0.290     0.195     0.178   \n",
       "SEX                            -0.017     -0.017    -0.000    -0.001   \n",
       "EDUCATION                      -0.008     -0.009    -0.037    -0.030   \n",
       "MARRIAGE                       -0.025     -0.021    -0.006    -0.008   \n",
       "AGE                             0.049      0.048     0.026     0.022   \n",
       "PAY_0                           0.181      0.177    -0.079    -0.070   \n",
       "PAY_2                           0.221      0.219    -0.081    -0.059   \n",
       "PAY_3                           0.225      0.222     0.001    -0.067   \n",
       "PAY_4                           0.243      0.239    -0.009    -0.002   \n",
       "PAY_5                           0.270      0.263    -0.006    -0.003   \n",
       "PAY_6                           0.291      0.285    -0.001    -0.005   \n",
       "BILL_AMT1                       0.830      0.803     0.140     0.099   \n",
       "BILL_AMT2                       0.860      0.832     0.280     0.101   \n",
       "BILL_AMT3                       0.884      0.853     0.244     0.317   \n",
       "BILL_AMT4                       0.940      0.901     0.233     0.208   \n",
       "BILL_AMT5                       1.000      0.946     0.217     0.181   \n",
       "BILL_AMT6                       0.946      1.000     0.200     0.173   \n",
       "PAY_AMT1                        0.217      0.200     1.000     0.286   \n",
       "PAY_AMT2                        0.181      0.173     0.286     1.000   \n",
       "PAY_AMT3                        0.252      0.234     0.252     0.245   \n",
       "PAY_AMT4                        0.293      0.250     0.200     0.180   \n",
       "PAY_AMT5                        0.142      0.308     0.148     0.181   \n",
       "PAY_AMT6                        0.164      0.115     0.186     0.158   \n",
       "default payment next month     -0.007     -0.005    -0.073    -0.059   \n",
       "\n",
       "                            PAY_AMT3  PAY_AMT4  PAY_AMT5  PAY_AMT6  \\\n",
       "LIMIT_BAL                      0.210     0.203     0.217     0.220   \n",
       "SEX                           -0.009    -0.002    -0.002    -0.003   \n",
       "EDUCATION                     -0.040    -0.038    -0.040    -0.037   \n",
       "MARRIAGE                      -0.004    -0.013    -0.001    -0.007   \n",
       "AGE                            0.029     0.021     0.023     0.019   \n",
       "PAY_0                         -0.071    -0.064    -0.058    -0.059   \n",
       "PAY_2                         -0.056    -0.047    -0.037    -0.037   \n",
       "PAY_3                         -0.053    -0.046    -0.036    -0.036   \n",
       "PAY_4                         -0.069    -0.043    -0.034    -0.027   \n",
       "PAY_5                          0.009    -0.058    -0.033    -0.023   \n",
       "PAY_6                          0.006     0.019    -0.046    -0.025   \n",
       "BILL_AMT1                      0.157     0.158     0.167     0.179   \n",
       "BILL_AMT2                      0.151     0.147     0.158     0.174   \n",
       "BILL_AMT3                      0.130     0.143     0.180     0.182   \n",
       "BILL_AMT4                      0.300     0.130     0.160     0.178   \n",
       "BILL_AMT5                      0.252     0.293     0.142     0.164   \n",
       "BILL_AMT6                      0.234     0.250     0.308     0.115   \n",
       "PAY_AMT1                       0.252     0.200     0.148     0.186   \n",
       "PAY_AMT2                       0.245     0.180     0.181     0.158   \n",
       "PAY_AMT3                       1.000     0.216     0.159     0.163   \n",
       "PAY_AMT4                       0.216     1.000     0.152     0.158   \n",
       "PAY_AMT5                       0.159     0.152     1.000     0.155   \n",
       "PAY_AMT6                       0.163     0.158     0.155     1.000   \n",
       "default payment next month    -0.056    -0.057    -0.055    -0.053   \n",
       "\n",
       "                            default payment next month  \n",
       "LIMIT_BAL                                       -0.154  \n",
       "SEX                                             -0.040  \n",
       "EDUCATION                                        0.028  \n",
       "MARRIAGE                                        -0.024  \n",
       "AGE                                              0.014  \n",
       "PAY_0                                            0.325  \n",
       "PAY_2                                            0.264  \n",
       "PAY_3                                            0.235  \n",
       "PAY_4                                            0.217  \n",
       "PAY_5                                            0.204  \n",
       "PAY_6                                            0.187  \n",
       "BILL_AMT1                                       -0.020  \n",
       "BILL_AMT2                                       -0.014  \n",
       "BILL_AMT3                                       -0.014  \n",
       "BILL_AMT4                                       -0.010  \n",
       "BILL_AMT5                                       -0.007  \n",
       "BILL_AMT6                                       -0.005  \n",
       "PAY_AMT1                                        -0.073  \n",
       "PAY_AMT2                                        -0.059  \n",
       "PAY_AMT3                                        -0.056  \n",
       "PAY_AMT4                                        -0.057  \n",
       "PAY_AMT5                                        -0.055  \n",
       "PAY_AMT6                                        -0.053  \n",
       "default payment next month                       1.000  \n",
       "\n",
       "[24 rows x 24 columns]"
      ]
     },
     "execution_count": 20,
     "metadata": {},
     "output_type": "execute_result"
    }
   ],
   "source": [
    "# Affichage de la corrélation entre les variables\n",
    "data_propre.corr()"
   ]
  },
  {
   "cell_type": "code",
   "execution_count": 21,
   "metadata": {},
   "outputs": [
    {
     "data": {
      "text/plain": [
       "<function matplotlib.pyplot.show(*args, **kw)>"
      ]
     },
     "execution_count": 21,
     "metadata": {},
     "output_type": "execute_result"
    },
    {
     "data": {
      "image/png": "[encoded data removed]",
      "text/plain": [
       "<Figure size 1800x1080 with 2 Axes>"
      ]
     },
     "metadata": {
      "needs_background": "light"
     },
     "output_type": "display_data"
    }
   ],
   "source": [
    "# Visualiser la corrélation enutilisant heatmap sans les variables encodées\n",
    "plt.figure(figsize=(25,15))\n",
    "sns.heatmap(data_propre.corr() , annot=True)\n",
    "plt.show"
   ]
  },
  {
   "cell_type": "markdown",
   "metadata": {},
   "source": [
    "# data Seslection "
   ]
  },
  {
   "cell_type": "markdown",
   "metadata": {},
   "source": [
    "#### 1) Méthode de KBest "
   ]
  },
  {
   "cell_type": "code",
   "execution_count": 22,
   "metadata": {},
   "outputs": [],
   "source": [
    "# Appliquer une fonction qui permet de la décomposition des données\n",
    "# en train et test avec une division de 0.2\n",
    "def get_data_splits(dataframe, valid_fraction=0.1):\n",
    "    valid_fraction = 0.1\n",
    "    valid_size = int(len(dataframe) * valid_fraction)\n",
    "\n",
    "    train = dataframe[:-valid_size * 2]\n",
    "\n",
    "    valid = dataframe[-valid_size * 2:-valid_size]\n",
    "    test = dataframe[-valid_size:]\n",
    "    \n",
    "    return train, valid, test"
   ]
  },
  {
   "cell_type": "code",
   "execution_count": 23,
   "metadata": {},
   "outputs": [
    {
     "data": {
      "text/plain": [
       "array([[-1.13672015,  2.        ,  2.        , ..., -2.        ,\n",
       "        -2.        , -0.34194162],\n",
       "       [-0.3659805 , -1.        ,  2.        , ...,  0.        ,\n",
       "         2.        , -0.34194162],\n",
       "       [-0.59720239,  0.        ,  0.        , ...,  0.        ,\n",
       "         0.        , -0.25029158],\n",
       "       ...,\n",
       "       [-1.21379411,  0.        ,  0.        , ...,  0.        ,\n",
       "         0.        , -0.26345344],\n",
       "       [-1.13672015,  0.        ,  0.        , ...,  0.        ,\n",
       "        -2.        , -0.1574944 ],\n",
       "       [-0.52012843,  0.        , -1.        , ..., -1.        ,\n",
       "         0.        , -0.27552855]])"
      ]
     },
     "execution_count": 23,
     "metadata": {},
     "output_type": "execute_result"
    }
   ],
   "source": [
    "from sklearn.feature_selection import SelectKBest, f_classif\n",
    "# Suppression de variable cible \"default payment next month\"\n",
    "feature_cols = tai5.columns.drop('default payment next month')\n",
    "train, valid, _ = get_data_splits(tai5)\n",
    "\n",
    "# Appliquer la méthode \"SelectKBest\" en gardant que les 8 colonnes qui expliquent l'information le mieux\n",
    "\n",
    "selector = SelectKBest(f_classif, k=8)\n",
    "\n",
    "X_new = selector.fit_transform(train[feature_cols], train['default payment next month'])\n",
    "X_new"
   ]
  },
  {
   "cell_type": "code",
   "execution_count": 24,
   "metadata": {},
   "outputs": [
    {
     "data": {
      "text/html": [
       "<div>\n",
       "<style scoped>\n",
       "    .dataframe tbody tr th:only-of-type {\n",
       "        vertical-align: middle;\n",
       "    }\n",
       "\n",
       "    .dataframe tbody tr th {\n",
       "        vertical-align: top;\n",
       "    }\n",
       "\n",
       "    .dataframe thead th {\n",
       "        text-align: right;\n",
       "    }\n",
       "</style>\n",
       "<table border=\"1\" class=\"dataframe\">\n",
       "  <thead>\n",
       "    <tr style=\"text-align: right;\">\n",
       "      <th></th>\n",
       "      <th>LIMIT_BAL</th>\n",
       "      <th>SEX</th>\n",
       "      <th>EDUCATION</th>\n",
       "      <th>MARRIAGE</th>\n",
       "      <th>AGE</th>\n",
       "      <th>PAY_0</th>\n",
       "      <th>PAY_2</th>\n",
       "      <th>PAY_3</th>\n",
       "      <th>PAY_4</th>\n",
       "      <th>PAY_5</th>\n",
       "      <th>...</th>\n",
       "      <th>BILL_AMT3</th>\n",
       "      <th>BILL_AMT4</th>\n",
       "      <th>BILL_AMT5</th>\n",
       "      <th>BILL_AMT6</th>\n",
       "      <th>PAY_AMT1</th>\n",
       "      <th>PAY_AMT2</th>\n",
       "      <th>PAY_AMT3</th>\n",
       "      <th>PAY_AMT4</th>\n",
       "      <th>PAY_AMT5</th>\n",
       "      <th>PAY_AMT6</th>\n",
       "    </tr>\n",
       "    <tr>\n",
       "      <th>ID</th>\n",
       "      <th></th>\n",
       "      <th></th>\n",
       "      <th></th>\n",
       "      <th></th>\n",
       "      <th></th>\n",
       "      <th></th>\n",
       "      <th></th>\n",
       "      <th></th>\n",
       "      <th></th>\n",
       "      <th></th>\n",
       "      <th></th>\n",
       "      <th></th>\n",
       "      <th></th>\n",
       "      <th></th>\n",
       "      <th></th>\n",
       "      <th></th>\n",
       "      <th></th>\n",
       "      <th></th>\n",
       "      <th></th>\n",
       "      <th></th>\n",
       "      <th></th>\n",
       "    </tr>\n",
       "  </thead>\n",
       "  <tbody>\n",
       "    <tr>\n",
       "      <th>1</th>\n",
       "      <td>-1.137</td>\n",
       "      <td>0.000</td>\n",
       "      <td>0.000</td>\n",
       "      <td>0.000</td>\n",
       "      <td>0.000</td>\n",
       "      <td>2.000</td>\n",
       "      <td>2.000</td>\n",
       "      <td>-1.000</td>\n",
       "      <td>-1.000</td>\n",
       "      <td>-2.000</td>\n",
       "      <td>...</td>\n",
       "      <td>0.000</td>\n",
       "      <td>0.000</td>\n",
       "      <td>0.000</td>\n",
       "      <td>0.000</td>\n",
       "      <td>-0.342</td>\n",
       "      <td>0.000</td>\n",
       "      <td>0.000</td>\n",
       "      <td>0.000</td>\n",
       "      <td>0.000</td>\n",
       "      <td>0.000</td>\n",
       "    </tr>\n",
       "    <tr>\n",
       "      <th>2</th>\n",
       "      <td>-0.366</td>\n",
       "      <td>0.000</td>\n",
       "      <td>0.000</td>\n",
       "      <td>0.000</td>\n",
       "      <td>0.000</td>\n",
       "      <td>-1.000</td>\n",
       "      <td>2.000</td>\n",
       "      <td>0.000</td>\n",
       "      <td>0.000</td>\n",
       "      <td>0.000</td>\n",
       "      <td>...</td>\n",
       "      <td>0.000</td>\n",
       "      <td>0.000</td>\n",
       "      <td>0.000</td>\n",
       "      <td>0.000</td>\n",
       "      <td>-0.342</td>\n",
       "      <td>0.000</td>\n",
       "      <td>0.000</td>\n",
       "      <td>0.000</td>\n",
       "      <td>0.000</td>\n",
       "      <td>0.000</td>\n",
       "    </tr>\n",
       "  </tbody>\n",
       "</table>\n",
       "<p>2 rows × 23 columns</p>\n",
       "</div>"
      ],
      "text/plain": [
       "    LIMIT_BAL   SEX  EDUCATION  MARRIAGE   AGE  PAY_0  PAY_2  PAY_3  PAY_4  \\\n",
       "ID                                                                           \n",
       "1      -1.137 0.000      0.000     0.000 0.000  2.000  2.000 -1.000 -1.000   \n",
       "2      -0.366 0.000      0.000     0.000 0.000 -1.000  2.000  0.000  0.000   \n",
       "\n",
       "    PAY_5  ...  BILL_AMT3  BILL_AMT4  BILL_AMT5  BILL_AMT6  PAY_AMT1  \\\n",
       "ID         ...                                                         \n",
       "1  -2.000  ...      0.000      0.000      0.000      0.000    -0.342   \n",
       "2   0.000  ...      0.000      0.000      0.000      0.000    -0.342   \n",
       "\n",
       "    PAY_AMT2  PAY_AMT3  PAY_AMT4  PAY_AMT5  PAY_AMT6  \n",
       "ID                                                    \n",
       "1      0.000     0.000     0.000     0.000     0.000  \n",
       "2      0.000     0.000     0.000     0.000     0.000  \n",
       "\n",
       "[2 rows x 23 columns]"
      ]
     },
     "execution_count": 24,
     "metadata": {},
     "output_type": "execute_result"
    }
   ],
   "source": [
    "# Afficher dans un dataframe les meilleurs colonnes  , les autres colonnes ont des valeurs de 0\n",
    "selected_features = pd.DataFrame(selector.inverse_transform(X_new), \n",
    "                                 index=train.index, \n",
    "                                 columns=feature_cols)\n",
    "selected_features.head(2)"
   ]
  },
  {
   "cell_type": "code",
   "execution_count": 25,
   "metadata": {},
   "outputs": [
    {
     "data": {
      "text/html": [
       "<div>\n",
       "<style scoped>\n",
       "    .dataframe tbody tr th:only-of-type {\n",
       "        vertical-align: middle;\n",
       "    }\n",
       "\n",
       "    .dataframe tbody tr th {\n",
       "        vertical-align: top;\n",
       "    }\n",
       "\n",
       "    .dataframe thead th {\n",
       "        text-align: right;\n",
       "    }\n",
       "</style>\n",
       "<table border=\"1\" class=\"dataframe\">\n",
       "  <thead>\n",
       "    <tr style=\"text-align: right;\">\n",
       "      <th></th>\n",
       "      <th>LIMIT_BAL</th>\n",
       "      <th>PAY_0</th>\n",
       "      <th>PAY_2</th>\n",
       "      <th>PAY_3</th>\n",
       "      <th>PAY_4</th>\n",
       "      <th>PAY_5</th>\n",
       "      <th>PAY_6</th>\n",
       "      <th>PAY_AMT1</th>\n",
       "    </tr>\n",
       "    <tr>\n",
       "      <th>ID</th>\n",
       "      <th></th>\n",
       "      <th></th>\n",
       "      <th></th>\n",
       "      <th></th>\n",
       "      <th></th>\n",
       "      <th></th>\n",
       "      <th></th>\n",
       "      <th></th>\n",
       "    </tr>\n",
       "  </thead>\n",
       "  <tbody>\n",
       "    <tr>\n",
       "      <th>1</th>\n",
       "      <td>-1.137</td>\n",
       "      <td>2</td>\n",
       "      <td>2</td>\n",
       "      <td>-1</td>\n",
       "      <td>-1</td>\n",
       "      <td>-2</td>\n",
       "      <td>-2</td>\n",
       "      <td>-0.342</td>\n",
       "    </tr>\n",
       "    <tr>\n",
       "      <th>2</th>\n",
       "      <td>-0.366</td>\n",
       "      <td>-1</td>\n",
       "      <td>2</td>\n",
       "      <td>0</td>\n",
       "      <td>0</td>\n",
       "      <td>0</td>\n",
       "      <td>2</td>\n",
       "      <td>-0.342</td>\n",
       "    </tr>\n",
       "  </tbody>\n",
       "</table>\n",
       "</div>"
      ],
      "text/plain": [
       "    LIMIT_BAL  PAY_0  PAY_2  PAY_3  PAY_4  PAY_5  PAY_6  PAY_AMT1\n",
       "ID                                                               \n",
       "1      -1.137      2      2     -1     -1     -2     -2    -0.342\n",
       "2      -0.366     -1      2      0      0      0      2    -0.342"
      ]
     },
     "execution_count": 25,
     "metadata": {},
     "output_type": "execute_result"
    }
   ],
   "source": [
    "#Garder que les colonnes qui ont des valeurs non nuls, on obtient alors que les meilleurs colonnes \n",
    "selected_columns = selected_features.columns[selected_features.var() != 0]\n",
    "\n",
    "\n",
    "train[selected_columns].head(2)"
   ]
  },
  {
   "cell_type": "markdown",
   "metadata": {},
   "source": [
    "### Méthode de L1regression"
   ]
  },
  {
   "cell_type": "code",
   "execution_count": 26,
   "metadata": {},
   "outputs": [
    {
     "data": {
      "text/plain": [
       "array([[-1.13672015,  2.        ,  2.        , ..., -0.30806256,\n",
       "        -0.31413612, -0.29338206],\n",
       "       [-0.3659805 ,  2.        ,  2.        , ..., -0.24422965,\n",
       "        -0.31413612, -0.18087821],\n",
       "       [-0.59720239,  2.        ,  2.        , ..., -0.24422965,\n",
       "        -0.24868274, -0.01212243],\n",
       "       ...,\n",
       "       [-1.21379411,  1.        ,  2.        , ..., -0.28763603,\n",
       "        -0.19501098, -0.23713013],\n",
       "       [-1.13672015,  1.        ,  4.        , ..., -0.24422965,\n",
       "        -0.31413612, -0.29338206],\n",
       "       [-0.52012843,  1.        ,  1.        , ..., -0.2761461 ,\n",
       "        -0.24868274, -0.23713013]])"
      ]
     },
     "execution_count": 26,
     "metadata": {},
     "output_type": "execute_result"
    }
   ],
   "source": [
    "# Importer la classe \"warnings\" qui permet d'ignorer les erreurs de gravité \"warnings\"\n",
    "import warnings\n",
    "warnings.filterwarnings(\"ignore\", category=FutureWarning)\n",
    "from sklearn.linear_model import LogisticRegression\n",
    "from sklearn.feature_selection import SelectFromModel\n",
    "# On fait la division des données\n",
    "train, valid, _ = get_data_splits(tai5)\n",
    "\n",
    "X1, y1 = train[train.columns.drop(\"default payment next month\")], train['default payment next month']\n",
    "\n",
    "# On choisit lasso-régression pour filtrer les colonnes\n",
    "logistic = LogisticRegression(C=1, penalty=\"l1\", random_state=7).fit(X1, y1)\n",
    "model = SelectFromModel(logistic, prefit=True)\n",
    "\n",
    "X_new = model.transform(X1)\n",
    "X_new"
   ]
  },
  {
   "cell_type": "code",
   "execution_count": 27,
   "metadata": {},
   "outputs": [],
   "source": [
    "# Affichage des colonnes séléctionnés dans un dataframe\n",
    "selected_features = pd.DataFrame(model.inverse_transform(X_new), \n",
    "                                 index=X1.index,\n",
    "                                 columns=X1.columns)\n",
    "#Suppression des donneés qui ont des valeurs nuls\n",
    "selected_columns = selected_features.columns[selected_features.var()!=0]"
   ]
  },
  {
   "cell_type": "code",
   "execution_count": 28,
   "metadata": {},
   "outputs": [
    {
     "data": {
      "text/plain": [
       "Index(['LIMIT_BAL', 'SEX', 'EDUCATION', 'MARRIAGE', 'AGE', 'PAY_0', 'PAY_2',\n",
       "       'PAY_3', 'PAY_4', 'PAY_5', 'PAY_6', 'BILL_AMT1', 'BILL_AMT2',\n",
       "       'BILL_AMT3', 'BILL_AMT4', 'BILL_AMT5', 'BILL_AMT6', 'PAY_AMT1',\n",
       "       'PAY_AMT2', 'PAY_AMT3', 'PAY_AMT4', 'PAY_AMT5', 'PAY_AMT6'],\n",
       "      dtype='object')"
      ]
     },
     "execution_count": 28,
     "metadata": {},
     "output_type": "execute_result"
    }
   ],
   "source": [
    "selected_columns"
   ]
  },
  {
   "cell_type": "code",
   "execution_count": 29,
   "metadata": {},
   "outputs": [],
   "source": [
    "# Découpage des données en variables explicatives et variables expliquées\n",
    "X = tai5.iloc[:,:23]  \n",
    "y = tai5.iloc[:,23]    "
   ]
  },
  {
   "cell_type": "code",
   "execution_count": 30,
   "metadata": {},
   "outputs": [
    {
     "data": {
      "text/html": [
       "<div>\n",
       "<style scoped>\n",
       "    .dataframe tbody tr th:only-of-type {\n",
       "        vertical-align: middle;\n",
       "    }\n",
       "\n",
       "    .dataframe tbody tr th {\n",
       "        vertical-align: top;\n",
       "    }\n",
       "\n",
       "    .dataframe thead th {\n",
       "        text-align: right;\n",
       "    }\n",
       "</style>\n",
       "<table border=\"1\" class=\"dataframe\">\n",
       "  <thead>\n",
       "    <tr style=\"text-align: right;\">\n",
       "      <th></th>\n",
       "      <th>LIMIT_BAL</th>\n",
       "      <th>SEX</th>\n",
       "      <th>EDUCATION</th>\n",
       "      <th>MARRIAGE</th>\n",
       "      <th>AGE</th>\n",
       "      <th>PAY_0</th>\n",
       "      <th>PAY_2</th>\n",
       "      <th>PAY_3</th>\n",
       "      <th>PAY_4</th>\n",
       "      <th>PAY_5</th>\n",
       "      <th>...</th>\n",
       "      <th>BILL_AMT3</th>\n",
       "      <th>BILL_AMT4</th>\n",
       "      <th>BILL_AMT5</th>\n",
       "      <th>BILL_AMT6</th>\n",
       "      <th>PAY_AMT1</th>\n",
       "      <th>PAY_AMT2</th>\n",
       "      <th>PAY_AMT3</th>\n",
       "      <th>PAY_AMT4</th>\n",
       "      <th>PAY_AMT5</th>\n",
       "      <th>PAY_AMT6</th>\n",
       "    </tr>\n",
       "    <tr>\n",
       "      <th>ID</th>\n",
       "      <th></th>\n",
       "      <th></th>\n",
       "      <th></th>\n",
       "      <th></th>\n",
       "      <th></th>\n",
       "      <th></th>\n",
       "      <th></th>\n",
       "      <th></th>\n",
       "      <th></th>\n",
       "      <th></th>\n",
       "      <th></th>\n",
       "      <th></th>\n",
       "      <th></th>\n",
       "      <th></th>\n",
       "      <th></th>\n",
       "      <th></th>\n",
       "      <th></th>\n",
       "      <th></th>\n",
       "      <th></th>\n",
       "      <th></th>\n",
       "      <th></th>\n",
       "    </tr>\n",
       "  </thead>\n",
       "  <tbody>\n",
       "    <tr>\n",
       "      <th>1</th>\n",
       "      <td>-1.137</td>\n",
       "      <td>2</td>\n",
       "      <td>2</td>\n",
       "      <td>1</td>\n",
       "      <td>24</td>\n",
       "      <td>2</td>\n",
       "      <td>2</td>\n",
       "      <td>-1</td>\n",
       "      <td>-1</td>\n",
       "      <td>-2</td>\n",
       "      <td>...</td>\n",
       "      <td>-0.668</td>\n",
       "      <td>-0.672</td>\n",
       "      <td>-0.663</td>\n",
       "      <td>-0.653</td>\n",
       "      <td>-0.342</td>\n",
       "      <td>-0.227</td>\n",
       "      <td>-0.297</td>\n",
       "      <td>-0.308</td>\n",
       "      <td>-0.314</td>\n",
       "      <td>-0.293</td>\n",
       "    </tr>\n",
       "    <tr>\n",
       "      <th>2</th>\n",
       "      <td>-0.366</td>\n",
       "      <td>2</td>\n",
       "      <td>2</td>\n",
       "      <td>2</td>\n",
       "      <td>26</td>\n",
       "      <td>-1</td>\n",
       "      <td>2</td>\n",
       "      <td>0</td>\n",
       "      <td>0</td>\n",
       "      <td>0</td>\n",
       "      <td>...</td>\n",
       "      <td>-0.639</td>\n",
       "      <td>-0.622</td>\n",
       "      <td>-0.606</td>\n",
       "      <td>-0.598</td>\n",
       "      <td>-0.342</td>\n",
       "      <td>-0.214</td>\n",
       "      <td>-0.240</td>\n",
       "      <td>-0.244</td>\n",
       "      <td>-0.314</td>\n",
       "      <td>-0.181</td>\n",
       "    </tr>\n",
       "  </tbody>\n",
       "</table>\n",
       "<p>2 rows × 23 columns</p>\n",
       "</div>"
      ],
      "text/plain": [
       "    LIMIT_BAL  SEX  EDUCATION  MARRIAGE  AGE  PAY_0  PAY_2  PAY_3  PAY_4  \\\n",
       "ID                                                                         \n",
       "1      -1.137    2          2         1   24      2      2     -1     -1   \n",
       "2      -0.366    2          2         2   26     -1      2      0      0   \n",
       "\n",
       "    PAY_5  ...  BILL_AMT3  BILL_AMT4  BILL_AMT5  BILL_AMT6  PAY_AMT1  \\\n",
       "ID         ...                                                         \n",
       "1      -2  ...     -0.668     -0.672     -0.663     -0.653    -0.342   \n",
       "2       0  ...     -0.639     -0.622     -0.606     -0.598    -0.342   \n",
       "\n",
       "    PAY_AMT2  PAY_AMT3  PAY_AMT4  PAY_AMT5  PAY_AMT6  \n",
       "ID                                                    \n",
       "1     -0.227    -0.297    -0.308    -0.314    -0.293  \n",
       "2     -0.214    -0.240    -0.244    -0.314    -0.181  \n",
       "\n",
       "[2 rows x 23 columns]"
      ]
     },
     "execution_count": 30,
     "metadata": {},
     "output_type": "execute_result"
    }
   ],
   "source": [
    "X.head(2)"
   ]
  },
  {
   "cell_type": "code",
   "execution_count": 31,
   "metadata": {},
   "outputs": [
    {
     "data": {
      "text/plain": [
       "array([1, 1, 0, ..., 1, 1, 1], dtype=int64)"
      ]
     },
     "execution_count": 31,
     "metadata": {},
     "output_type": "execute_result"
    }
   ],
   "source": [
    "y.values"
   ]
  },
  {
   "cell_type": "code",
   "execution_count": 32,
   "metadata": {},
   "outputs": [],
   "source": [
    "# Importer la classe StandardScaler pour l'échantionnage\n",
    "from sklearn.preprocessing import StandardScaler\n",
    "ss = StandardScaler()"
   ]
  },
  {
   "cell_type": "code",
   "execution_count": 33,
   "metadata": {},
   "outputs": [
    {
     "data": {
      "text/html": [
       "<div>\n",
       "<style scoped>\n",
       "    .dataframe tbody tr th:only-of-type {\n",
       "        vertical-align: middle;\n",
       "    }\n",
       "\n",
       "    .dataframe tbody tr th {\n",
       "        vertical-align: top;\n",
       "    }\n",
       "\n",
       "    .dataframe thead th {\n",
       "        text-align: right;\n",
       "    }\n",
       "</style>\n",
       "<table border=\"1\" class=\"dataframe\">\n",
       "  <thead>\n",
       "    <tr style=\"text-align: right;\">\n",
       "      <th></th>\n",
       "      <th>LIMIT_BAL</th>\n",
       "      <th>SEX</th>\n",
       "      <th>EDUCATION</th>\n",
       "      <th>MARRIAGE</th>\n",
       "      <th>AGE</th>\n",
       "      <th>PAY_0</th>\n",
       "      <th>PAY_2</th>\n",
       "      <th>PAY_3</th>\n",
       "      <th>PAY_4</th>\n",
       "      <th>PAY_5</th>\n",
       "      <th>...</th>\n",
       "      <th>BILL_AMT3</th>\n",
       "      <th>BILL_AMT4</th>\n",
       "      <th>BILL_AMT5</th>\n",
       "      <th>BILL_AMT6</th>\n",
       "      <th>PAY_AMT1</th>\n",
       "      <th>PAY_AMT2</th>\n",
       "      <th>PAY_AMT3</th>\n",
       "      <th>PAY_AMT4</th>\n",
       "      <th>PAY_AMT5</th>\n",
       "      <th>PAY_AMT6</th>\n",
       "    </tr>\n",
       "  </thead>\n",
       "  <tbody>\n",
       "    <tr>\n",
       "      <th>0</th>\n",
       "      <td>-1.137</td>\n",
       "      <td>0.810</td>\n",
       "      <td>0.212</td>\n",
       "      <td>-1.069</td>\n",
       "      <td>-1.246</td>\n",
       "      <td>1.795</td>\n",
       "      <td>1.782</td>\n",
       "      <td>-0.697</td>\n",
       "      <td>-0.667</td>\n",
       "      <td>-1.530</td>\n",
       "      <td>...</td>\n",
       "      <td>-0.668</td>\n",
       "      <td>-0.672</td>\n",
       "      <td>-0.663</td>\n",
       "      <td>-0.653</td>\n",
       "      <td>-0.342</td>\n",
       "      <td>-0.227</td>\n",
       "      <td>-0.297</td>\n",
       "      <td>-0.308</td>\n",
       "      <td>-0.314</td>\n",
       "      <td>-0.293</td>\n",
       "    </tr>\n",
       "    <tr>\n",
       "      <th>1</th>\n",
       "      <td>-0.366</td>\n",
       "      <td>0.810</td>\n",
       "      <td>0.212</td>\n",
       "      <td>0.849</td>\n",
       "      <td>-1.029</td>\n",
       "      <td>-0.875</td>\n",
       "      <td>1.782</td>\n",
       "      <td>0.139</td>\n",
       "      <td>0.189</td>\n",
       "      <td>0.235</td>\n",
       "      <td>...</td>\n",
       "      <td>-0.639</td>\n",
       "      <td>-0.622</td>\n",
       "      <td>-0.606</td>\n",
       "      <td>-0.598</td>\n",
       "      <td>-0.342</td>\n",
       "      <td>-0.214</td>\n",
       "      <td>-0.240</td>\n",
       "      <td>-0.244</td>\n",
       "      <td>-0.314</td>\n",
       "      <td>-0.181</td>\n",
       "    </tr>\n",
       "  </tbody>\n",
       "</table>\n",
       "<p>2 rows × 23 columns</p>\n",
       "</div>"
      ],
      "text/plain": [
       "   LIMIT_BAL   SEX  EDUCATION  MARRIAGE    AGE  PAY_0  PAY_2  PAY_3  PAY_4  \\\n",
       "0     -1.137 0.810      0.212    -1.069 -1.246  1.795  1.782 -0.697 -0.667   \n",
       "1     -0.366 0.810      0.212     0.849 -1.029 -0.875  1.782  0.139  0.189   \n",
       "\n",
       "   PAY_5  ...  BILL_AMT3  BILL_AMT4  BILL_AMT5  BILL_AMT6  PAY_AMT1  PAY_AMT2  \\\n",
       "0 -1.530  ...     -0.668     -0.672     -0.663     -0.653    -0.342    -0.227   \n",
       "1  0.235  ...     -0.639     -0.622     -0.606     -0.598    -0.342    -0.214   \n",
       "\n",
       "   PAY_AMT3  PAY_AMT4  PAY_AMT5  PAY_AMT6  \n",
       "0    -0.297    -0.308    -0.314    -0.293  \n",
       "1    -0.240    -0.244    -0.314    -0.181  \n",
       "\n",
       "[2 rows x 23 columns]"
      ]
     },
     "execution_count": 33,
     "metadata": {},
     "output_type": "execute_result"
    }
   ],
   "source": [
    "# Appliquer la méthode pour le dataframe x des variables explicatives\n",
    "ss.fit(X.values)\n",
    "matriceTCL = ss.transform(X.values)\n",
    "#Afficher les données aprés remise a l'echellle avec standarscaler\n",
    "dataTCL =pd.DataFrame(matriceTCL , columns=X.columns)\n",
    "dataTCL.head(2)"
   ]
  },
  {
   "cell_type": "code",
   "execution_count": 34,
   "metadata": {},
   "outputs": [
    {
     "data": {
      "image/png": "[encoded data removed]",
      "text/plain": [
       "<Figure size 1080x936 with 25 Axes>"
      ]
     },
     "metadata": {
      "needs_background": "light"
     },
     "output_type": "display_data"
    }
   ],
   "source": [
    "#Afficher la forme des données de chaque feature en utilisant \"hist\"\n",
    "pd.DataFrame(matriceTCL).hist(figsize=(15,13));"
   ]
  },
  {
   "cell_type": "markdown",
   "metadata": {},
   "source": [
    "### la méthode Feature Importance"
   ]
  },
  {
   "cell_type": "code",
   "execution_count": 35,
   "metadata": {},
   "outputs": [],
   "source": [
    "# Importer la classe ExtraTreesClassifier\n",
    "from sklearn.ensemble import ExtraTreesClassifier\n",
    "import matplotlib.pyplot as plt"
   ]
  },
  {
   "cell_type": "code",
   "execution_count": 36,
   "metadata": {},
   "outputs": [],
   "source": [
    "#Diviser les données pour l'aprentissage et le test afin d'avoir une meilleur résultat\n",
    "from sklearn.model_selection import train_test_split\n",
    "X_train, X_test, y_train, y_test = train_test_split(X, y, random_state=0)"
   ]
  },
  {
   "cell_type": "code",
   "execution_count": 37,
   "metadata": {},
   "outputs": [
    {
     "name": "stdout",
     "output_type": "stream",
     "text": [
      "[0.06438991 0.00992827 0.03258911 0.02407932 0.06583811 0.10671869\n",
      " 0.04348884 0.03799117 0.03049977 0.02576331 0.02927704 0.05000222\n",
      " 0.04458711 0.04517014 0.04455746 0.04464972 0.0438118  0.04357262\n",
      " 0.04165814 0.0413776  0.04164117 0.04274789 0.04566061]\n"
     ]
    }
   ],
   "source": [
    "#Faire l'apprentissage des données en utilisant le model ExtraTreesClassifier\n",
    "model = ExtraTreesClassifier()\n",
    "model.fit(X_train,y_train)\n",
    "#Afficher \"feature_importances\" pour chaque colonne\n",
    "print(model.feature_importances_) "
   ]
  },
  {
   "cell_type": "code",
   "execution_count": 38,
   "metadata": {},
   "outputs": [
    {
     "data": {
      "image/png": "[encoded data removed]",
      "text/plain": [
       "<Figure size 432x288 with 1 Axes>"
      ]
     },
     "metadata": {
      "needs_background": "light"
     },
     "output_type": "display_data"
    }
   ],
   "source": [
    "#Visualiser \"feature_importance\" dans un graphe\n",
    "feat_importances = pd.Series(model.feature_importances_, index=X_train.columns)\n",
    "feat_importances.nlargest(10).plot(kind='barh',color=['pink','black', 'coral', 'blue','red', 'green', 'cyan','y','orange','lime'])\n",
    "plt.show()"
   ]
  },
  {
   "cell_type": "markdown",
   "metadata": {},
   "source": [
    "### Méthode de PCA"
   ]
  },
  {
   "cell_type": "code",
   "execution_count": 39,
   "metadata": {},
   "outputs": [
    {
     "data": {
      "image/png": "[encoded data removed]",
      "text/plain": [
       "<Figure size 432x288 with 1 Axes>"
      ]
     },
     "metadata": {
      "needs_background": "light"
     },
     "output_type": "display_data"
    },
    {
     "data": {
      "text/plain": [
       "array([0.29630489, 0.17058497, 0.07048544, 0.06667991, 0.04627074,\n",
       "       0.04159677, 0.04044046, 0.03971385, 0.03919007, 0.03557567,\n",
       "       0.03331129, 0.03092277, 0.02556333, 0.01835084])"
      ]
     },
     "execution_count": 39,
     "metadata": {},
     "output_type": "execute_result"
    }
   ],
   "source": [
    "# Importer la classe de PCA\n",
    "from sklearn.decomposition import PCA\n",
    "#initialiser la méthode PCA\n",
    "pca = PCA(0.95)\n",
    "\n",
    "# fit and transform les données explicatives seulement\n",
    "datapca = pca.fit(dataTCL.iloc[:,1:])\n",
    "# Afficher les pourcentages de variance expliquée de chaque feature\n",
    "val = pd.Series(datapca.explained_variance_ratio_)\n",
    "val.plot(kind='bar', title=\"graphes des valeurs propres\")\n",
    "plt.show()\n",
    "#  Création d'un dataframe qui contient les valeurs de chaque composants \n",
    "# Initiation pour afficher la cercle de corrélation\n",
    "coef = np.transpose(pca.components_)\n",
    "cols = ['PC-'+str(x) for x in range(len(val))]\n",
    "pc_infos = pd.DataFrame(coef, columns=cols, index=dataTCL.iloc[:,1:].columns)\n",
    "pca.n_components_\n",
    "datapca.explained_variance_ratio_"
   ]
  },
  {
   "cell_type": "code",
   "execution_count": 40,
   "metadata": {},
   "outputs": [
    {
     "data": {
      "text/plain": [
       "Text(0.5, 1.0, 'Circle of Correlations')"
      ]
     },
     "execution_count": 40,
     "metadata": {},
     "output_type": "execute_result"
    },
    {
     "data": {
      "image/png": "[encoded data removed]",
      "text/plain": [
       "<Figure size 720x720 with 1 Axes>"
      ]
     },
     "metadata": {
      "needs_background": "light"
     },
     "output_type": "display_data"
    }
   ],
   "source": [
    "# Affichage de la cercle de corrélation\n",
    "# Réalisation d'un graphe qui contient un cercle\n",
    "plt.Circle((0,0),radius=10, color='g', fill=False)\n",
    "circle1=plt.Circle((0,0),radius=1, color='g', fill=False)\n",
    "# Ajouter les axes et donner la limite pour chaque axe\n",
    "fig, axes= plt.subplots(figsize=(10,10))\n",
    "axes.set_xlim(-1,1)\n",
    "axes.set_ylim(-1,1)\n",
    "fig.gca().add_artist(circle1)\n",
    "plt.plot([-1,1],[0,0],color='silver',linestyle='-',linewidth=1)\n",
    "plt.plot([0,0],[-1,1],color='silver',linestyle='-',linewidth=1)\n",
    "axes.add_artist(circle1)\n",
    "# Affichage de chaque variable explicative dans la cercle\n",
    "for idx in range(len(pc_infos[\"PC-0\"])):\n",
    "    x = pc_infos[\"PC-0\"][idx]\n",
    "    y = pc_infos[\"PC-1\"][idx]\n",
    "    plt.plot([0.0,x],[0.0,y],'k-')\n",
    "    plt.plot(x, y, 'rx')\n",
    "    plt.annotate(pc_infos.index[idx], xy=(x,y))\n",
    "plt.xlim((-1,1))\n",
    "plt.ylim((-1,1))\n",
    "plt.title(\"Circle of Correlations\")"
   ]
  },
  {
   "cell_type": "markdown",
   "metadata": {},
   "source": [
    "##### Aprés la visualisation de la  corrélation entre les Features et l'étape Feature Selection, nous avons conclus que les features qui expriment bien la variable cible sont :\n",
    "####  'LIMIT_BAL','PAY_0', 'PAY_2','PAY_3', 'PAY_4', 'PAY_5', 'PAY_6'"
   ]
  },
  {
   "cell_type": "markdown",
   "metadata": {},
   "source": [
    "## Modeling"
   ]
  },
  {
   "cell_type": "code",
   "execution_count": 41,
   "metadata": {},
   "outputs": [
    {
     "data": {
      "text/plain": [
       "Index(['LIMIT_BAL', 'SEX', 'EDUCATION', 'MARRIAGE', 'AGE', 'PAY_0', 'PAY_2',\n",
       "       'PAY_3', 'PAY_4', 'PAY_5', 'PAY_6', 'BILL_AMT1', 'BILL_AMT2',\n",
       "       'BILL_AMT3', 'BILL_AMT4', 'BILL_AMT5', 'BILL_AMT6', 'PAY_AMT1',\n",
       "       'PAY_AMT2', 'PAY_AMT3', 'PAY_AMT4', 'PAY_AMT5', 'PAY_AMT6',\n",
       "       'default payment next month'],\n",
       "      dtype='object')"
      ]
     },
     "execution_count": 41,
     "metadata": {},
     "output_type": "execute_result"
    }
   ],
   "source": [
    "tai5.columns"
   ]
  },
  {
   "cell_type": "code",
   "execution_count": 70,
   "metadata": {},
   "outputs": [
    {
     "data": {
      "text/html": [
       "<div>\n",
       "<style scoped>\n",
       "    .dataframe tbody tr th:only-of-type {\n",
       "        vertical-align: middle;\n",
       "    }\n",
       "\n",
       "    .dataframe tbody tr th {\n",
       "        vertical-align: top;\n",
       "    }\n",
       "\n",
       "    .dataframe thead th {\n",
       "        text-align: right;\n",
       "    }\n",
       "</style>\n",
       "<table border=\"1\" class=\"dataframe\">\n",
       "  <thead>\n",
       "    <tr style=\"text-align: right;\">\n",
       "      <th></th>\n",
       "      <th>LIMIT_BAL</th>\n",
       "      <th>PAY_0</th>\n",
       "      <th>PAY_2</th>\n",
       "      <th>PAY_3</th>\n",
       "      <th>PAY_4</th>\n",
       "      <th>PAY_5</th>\n",
       "      <th>PAY_6</th>\n",
       "    </tr>\n",
       "    <tr>\n",
       "      <th>ID</th>\n",
       "      <th></th>\n",
       "      <th></th>\n",
       "      <th></th>\n",
       "      <th></th>\n",
       "      <th></th>\n",
       "      <th></th>\n",
       "      <th></th>\n",
       "    </tr>\n",
       "  </thead>\n",
       "  <tbody>\n",
       "    <tr>\n",
       "      <th>1</th>\n",
       "      <td>-1.137</td>\n",
       "      <td>2</td>\n",
       "      <td>2</td>\n",
       "      <td>-1</td>\n",
       "      <td>-1</td>\n",
       "      <td>-2</td>\n",
       "      <td>-2</td>\n",
       "    </tr>\n",
       "    <tr>\n",
       "      <th>2</th>\n",
       "      <td>-0.366</td>\n",
       "      <td>-1</td>\n",
       "      <td>2</td>\n",
       "      <td>0</td>\n",
       "      <td>0</td>\n",
       "      <td>0</td>\n",
       "      <td>2</td>\n",
       "    </tr>\n",
       "  </tbody>\n",
       "</table>\n",
       "</div>"
      ],
      "text/plain": [
       "    LIMIT_BAL  PAY_0  PAY_2  PAY_3  PAY_4  PAY_5  PAY_6\n",
       "ID                                                     \n",
       "1      -1.137      2      2     -1     -1     -2     -2\n",
       "2      -0.366     -1      2      0      0      0      2"
      ]
     },
     "execution_count": 70,
     "metadata": {},
     "output_type": "execute_result"
    }
   ],
   "source": [
    "clos=['LIMIT_BAL', 'PAY_0', 'PAY_2',\n",
    "       'PAY_3', 'PAY_4', 'PAY_5', 'PAY_6']\n",
    "tai5[clos].head(2)"
   ]
  },
  {
   "cell_type": "code",
   "execution_count": 71,
   "metadata": {},
   "outputs": [],
   "source": [
    "y = tai5.iloc[:,23] "
   ]
  },
  {
   "cell_type": "code",
   "execution_count": 72,
   "metadata": {},
   "outputs": [
    {
     "data": {
      "text/plain": [
       "array([1, 1, 0, ..., 1, 1, 1], dtype=int64)"
      ]
     },
     "execution_count": 72,
     "metadata": {},
     "output_type": "execute_result"
    }
   ],
   "source": [
    "y.values"
   ]
  },
  {
   "cell_type": "code",
   "execution_count": 73,
   "metadata": {},
   "outputs": [],
   "source": [
    "#Diviser les données pour l'apprentissage et le test\n",
    "from sklearn.model_selection import train_test_split\n",
    "X_train1, X_test1, y_train1, y_test1 = train_test_split(tai5[clos].values,y.values , test_size = 0.2,random_state=0)"
   ]
  },
  {
   "cell_type": "code",
   "execution_count": 74,
   "metadata": {},
   "outputs": [
    {
     "data": {
      "text/plain": [
       "Text(0, 0.5, 'Erreur')"
      ]
     },
     "execution_count": 74,
     "metadata": {},
     "output_type": "execute_result"
    },
    {
     "data": {
      "image/png": "[encoded data removed]",
      "text/plain": [
       "<Figure size 864x432 with 1 Axes>"
      ]
     },
     "metadata": {
      "needs_background": "light"
     },
     "output_type": "display_data"
    }
   ],
   "source": [
    "from sklearn.neighbors import KNeighborsClassifier\n",
    "import warnings\n",
    "warnings.filterwarnings(\"ignore\", category=FutureWarning)\n",
    "error = []\n",
    "\n",
    "for i in range(1, 40):\n",
    "    knn = KNeighborsClassifier(i)\n",
    "    knn_model = knn.fit(X_train1, y_train1)\n",
    "    pred_i = knn_model.predict(X_test1)\n",
    "    error.append(np.mean(pred_i != y_test1))\n",
    "plt.figure(figsize=(12, 6))\n",
    "plt.plot(range(1, 40), error, color='red', linestyle='dashed', marker='o',\n",
    "         markerfacecolor='blue', markersize=10)\n",
    "plt.title('Taux Erreur pour les differentes valeurs de k')\n",
    "plt.xlabel('K ')\n",
    "plt.ylabel('Erreur')"
   ]
  },
  {
   "cell_type": "code",
   "execution_count": 75,
   "metadata": {},
   "outputs": [
    {
     "data": {
      "text/plain": [
       "0.8246666666666667"
      ]
     },
     "execution_count": 75,
     "metadata": {},
     "output_type": "execute_result"
    }
   ],
   "source": [
    "from sklearn.neighbors import KNeighborsClassifier\n",
    "# Appliquer la meilleur valeur de k=2\n",
    "knn1 = KNeighborsClassifier(28)\n",
    "# Faire l'étape d'apprentissage  \n",
    "knn_model1 = knn.fit(X_train1, y_train1)\n",
    "# réaliser la prédiction de X_test1\n",
    "y_pred_knn1 =knn_model1.predict(X_test1)\n",
    "# Afficher l'accuracy de prédiction\n",
    "knn_score=knn_model1.score(X_test1,y_test1)\n",
    "knn_score"
   ]
  },
  {
   "cell_type": "code",
   "execution_count": 76,
   "metadata": {},
   "outputs": [
    {
     "name": "stdout",
     "output_type": "stream",
     "text": [
      "0.8246666666666667\n"
     ]
    }
   ],
   "source": [
    "# Importer la classe accuracy_score\n",
    "from sklearn.metrics import accuracy_score\n",
    "print(accuracy_score(y_test1, y_pred_knn1))"
   ]
  },
  {
   "cell_type": "code",
   "execution_count": 77,
   "metadata": {},
   "outputs": [
    {
     "name": "stdout",
     "output_type": "stream",
     "text": [
      "[[4481  222]\n",
      " [ 830  467]]\n"
     ]
    }
   ],
   "source": [
    "#Appliquer la matrice de confusion\n",
    "from sklearn.metrics import confusion_matrix\n",
    "print(confusion_matrix(y_test1, y_pred_knn1))"
   ]
  },
  {
   "cell_type": "code",
   "execution_count": 78,
   "metadata": {},
   "outputs": [
    {
     "name": "stdout",
     "output_type": "stream",
     "text": [
      "              precision    recall  f1-score   support\n",
      "\n",
      "           0       0.84      0.95      0.89      4703\n",
      "           1       0.68      0.36      0.47      1297\n",
      "\n",
      "    accuracy                           0.82      6000\n",
      "   macro avg       0.76      0.66      0.68      6000\n",
      "weighted avg       0.81      0.82      0.80      6000\n",
      "\n"
     ]
    }
   ],
   "source": [
    "#Afficher \"classification_report\"\n",
    "from sklearn.metrics import classification_report\n",
    "print(classification_report(y_test1, y_pred_knn1))"
   ]
  },
  {
   "cell_type": "markdown",
   "metadata": {},
   "source": [
    "## 1- DecisionTreeClassifier"
   ]
  },
  {
   "cell_type": "code",
   "execution_count": 79,
   "metadata": {},
   "outputs": [
    {
     "data": {
      "text/plain": [
       "0.8038333333333333"
      ]
     },
     "execution_count": 79,
     "metadata": {},
     "output_type": "execute_result"
    }
   ],
   "source": [
    "#Importer la classe \"DecisionTreeClassifier\"\n",
    "from sklearn.tree import DecisionTreeClassifier\n",
    "dtc = DecisionTreeClassifier()\n",
    "# Faire l'étape d'apprentissage  \n",
    "dtc_model = DecisionTreeClassifier().fit(X_train1, y_train1)\n",
    "# réaliser la prédiction de X_test1\n",
    "y_pred_dtc = dtc_model.predict(X_test1)\n",
    "# Afficher l'accuracy de prédiction\n",
    "dtc_score=dtc_model.score(X_test1,y_test1)\n",
    "dtc_score"
   ]
  },
  {
   "cell_type": "code",
   "execution_count": 80,
   "metadata": {},
   "outputs": [
    {
     "name": "stdout",
     "output_type": "stream",
     "text": [
      "0.8038333333333333\n"
     ]
    }
   ],
   "source": [
    "# Importer la classe accuracy_score\n",
    "from sklearn.metrics import accuracy_score\n",
    "print(accuracy_score(y_test1, y_pred_dtc))"
   ]
  },
  {
   "cell_type": "code",
   "execution_count": 81,
   "metadata": {},
   "outputs": [
    {
     "name": "stdout",
     "output_type": "stream",
     "text": [
      "              precision    recall  f1-score   support\n",
      "\n",
      "           0       0.84      0.93      0.88      4703\n",
      "           1       0.58      0.35      0.44      1297\n",
      "\n",
      "    accuracy                           0.80      6000\n",
      "   macro avg       0.71      0.64      0.66      6000\n",
      "weighted avg       0.78      0.80      0.79      6000\n",
      "\n"
     ]
    }
   ],
   "source": [
    "#Afficher \"classification_report\"\n",
    "from sklearn.metrics import classification_report\n",
    "print(classification_report(y_test1, y_pred_dtc))"
   ]
  },
  {
   "cell_type": "markdown",
   "metadata": {},
   "source": [
    "## 2- RandomForestClassifier\n"
   ]
  },
  {
   "cell_type": "code",
   "execution_count": 82,
   "metadata": {},
   "outputs": [
    {
     "data": {
      "text/plain": [
       "0.8083333333333333"
      ]
     },
     "execution_count": 82,
     "metadata": {},
     "output_type": "execute_result"
    }
   ],
   "source": [
    "#Importer la classe \"RandomForestClassifier\"\n",
    "from sklearn.ensemble import RandomForestClassifier\n",
    "rfc = RandomForestClassifier(max_depth=30,\n",
    " min_samples_leaf= 1,\n",
    " min_samples_split= 2,\n",
    " n_estimators= 100)\n",
    "# Faire l'étape d'apprentissage  \n",
    "rfc_model = rfc.fit(X_train1, y_train1)\n",
    "# réaliser la prédiction de X_test1\n",
    "y_pred_rfc = rfc_model.predict(X_test1)\n",
    "# Afficher l'accuracy de prédiction\n",
    "rfc_score=rfc_model.score(X_test1,y_test1)\n",
    "rfc_score"
   ]
  },
  {
   "cell_type": "code",
   "execution_count": 83,
   "metadata": {},
   "outputs": [
    {
     "name": "stdout",
     "output_type": "stream",
     "text": [
      "0.8083333333333333\n"
     ]
    }
   ],
   "source": [
    "# Importer la classe accuracy_score\n",
    "from sklearn.metrics import accuracy_score\n",
    "print(accuracy_score(y_test1, y_pred_rfc))"
   ]
  },
  {
   "cell_type": "code",
   "execution_count": 84,
   "metadata": {},
   "outputs": [
    {
     "name": "stdout",
     "output_type": "stream",
     "text": [
      "[[4356  347]\n",
      " [ 803  494]]\n"
     ]
    }
   ],
   "source": [
    "#Appliquer la matrice de confusion\n",
    "from sklearn.metrics import confusion_matrix\n",
    "print(confusion_matrix(y_test1, y_pred_rfc))"
   ]
  },
  {
   "cell_type": "code",
   "execution_count": 85,
   "metadata": {},
   "outputs": [
    {
     "name": "stdout",
     "output_type": "stream",
     "text": [
      "              precision    recall  f1-score   support\n",
      "\n",
      "           0       0.84      0.93      0.88      4703\n",
      "           1       0.59      0.38      0.46      1297\n",
      "\n",
      "    accuracy                           0.81      6000\n",
      "   macro avg       0.72      0.65      0.67      6000\n",
      "weighted avg       0.79      0.81      0.79      6000\n",
      "\n"
     ]
    }
   ],
   "source": [
    "#Afficher \"classification_report\"\n",
    "from sklearn.metrics import classification_report\n",
    "print(classification_report(y_test1, y_pred_rfc))"
   ]
  },
  {
   "cell_type": "markdown",
   "metadata": {},
   "source": [
    "## Logistic Regression"
   ]
  },
  {
   "cell_type": "code",
   "execution_count": 86,
   "metadata": {},
   "outputs": [
    {
     "data": {
      "text/plain": [
       "0.8158333333333333"
      ]
     },
     "execution_count": 86,
     "metadata": {},
     "output_type": "execute_result"
    }
   ],
   "source": [
    "#Importer la classe \"LogisticRegression\"\n",
    "from sklearn.linear_model import LogisticRegression\n",
    "lr = LogisticRegression()\n",
    "# Faire l'étape d'apprentissage  \n",
    "lr_model = lr.fit(X_train1, y_train1)\n",
    "# réaliser la prédiction de X_test1\n",
    "y_pred_lr = lr_model.predict(X_test1)\n",
    "# Afficher l'accuracy de prédiction\n",
    "lr_score=lr_model.score(X_test1,y_test1)\n",
    "lr_score"
   ]
  },
  {
   "cell_type": "code",
   "execution_count": 87,
   "metadata": {},
   "outputs": [
    {
     "name": "stdout",
     "output_type": "stream",
     "text": [
      "[[4607   96]\n",
      " [1009  288]]\n"
     ]
    }
   ],
   "source": [
    "#Appliquer la matrice de confusion\n",
    "print(confusion_matrix(y_test1, y_pred_lr))"
   ]
  },
  {
   "cell_type": "code",
   "execution_count": 88,
   "metadata": {},
   "outputs": [
    {
     "name": "stdout",
     "output_type": "stream",
     "text": [
      "              precision    recall  f1-score   support\n",
      "\n",
      "           0       0.82      0.98      0.89      4703\n",
      "           1       0.75      0.22      0.34      1297\n",
      "\n",
      "    accuracy                           0.82      6000\n",
      "   macro avg       0.79      0.60      0.62      6000\n",
      "weighted avg       0.81      0.82      0.77      6000\n",
      "\n"
     ]
    }
   ],
   "source": [
    "#Afficher \"classification_report\"\n",
    "print(classification_report(y_test1, y_pred_lr))"
   ]
  },
  {
   "cell_type": "code",
   "execution_count": null,
   "metadata": {},
   "outputs": [],
   "source": [
    "#Tester la prédiction d'un nouveau donnée\n",
    "df = np.array([20000,2,2,1,24,2,2,-1,-1,-1,-1,3919,3102,689,0,0,0,0,689,0,0,0,0]).reshape(1,23)\n",
    "df2 = np.array([20000,2,2,2,4,6,1]).reshape(1,7)\n",
    "lr_model.predict(df2)"
   ]
  },
  {
   "cell_type": "code",
   "execution_count": 90,
   "metadata": {},
   "outputs": [
    {
     "data": {
      "text/plain": [
       "array([0, 0, 0, ..., 0, 1, 0], dtype=int64)"
      ]
     },
     "execution_count": 90,
     "metadata": {},
     "output_type": "execute_result"
    }
   ],
   "source": [
    "y_pred_lr"
   ]
  },
  {
   "cell_type": "markdown",
   "metadata": {},
   "source": [
    "## Naive Bayes"
   ]
  },
  {
   "cell_type": "code",
   "execution_count": 91,
   "metadata": {},
   "outputs": [
    {
     "data": {
      "text/plain": [
       "0.8061666666666667"
      ]
     },
     "execution_count": 91,
     "metadata": {},
     "output_type": "execute_result"
    }
   ],
   "source": [
    "#Importer la classe \"GaussianNB\"\n",
    "from sklearn.naive_bayes import GaussianNB\n",
    "model_NB= GaussianNB()\n",
    "# Faire l'étape d'apprentissage  \n",
    "model_naive=model_NB.fit(X_train1,y_train1)\n",
    "# réaliser la prédiction de X_test1\n",
    "y_pred_nb =model_naive.predict(X_test1)\n",
    "# Afficher l'accuracy de prédiction\n",
    "nb_score=model_naive.score(X_test1,y_test1)\n",
    "nb_score"
   ]
  },
  {
   "cell_type": "code",
   "execution_count": 92,
   "metadata": {},
   "outputs": [
    {
     "name": "stdout",
     "output_type": "stream",
     "text": [
      "[[4316  387]\n",
      " [ 776  521]]\n"
     ]
    }
   ],
   "source": [
    "#Appliquer la matrice de confusion\n",
    "print(confusion_matrix(y_test1, y_pred_nb))"
   ]
  },
  {
   "cell_type": "code",
   "execution_count": 93,
   "metadata": {},
   "outputs": [
    {
     "name": "stdout",
     "output_type": "stream",
     "text": [
      "              precision    recall  f1-score   support\n",
      "\n",
      "           0       0.85      0.92      0.88      4703\n",
      "           1       0.57      0.40      0.47      1297\n",
      "\n",
      "    accuracy                           0.81      6000\n",
      "   macro avg       0.71      0.66      0.68      6000\n",
      "weighted avg       0.79      0.81      0.79      6000\n",
      "\n"
     ]
    }
   ],
   "source": [
    "#Afficher \"classification_report\"\n",
    "print(classification_report(y_test1, y_pred_nb))"
   ]
  },
  {
   "cell_type": "markdown",
   "metadata": {},
   "source": [
    "## 3) Support Vector Machine"
   ]
  },
  {
   "cell_type": "code",
   "execution_count": 94,
   "metadata": {},
   "outputs": [
    {
     "data": {
      "text/plain": [
       "0.8245"
      ]
     },
     "execution_count": 94,
     "metadata": {},
     "output_type": "execute_result"
    }
   ],
   "source": [
    "#Importer la classe \"SVC\"\n",
    "from sklearn.svm import SVC\n",
    "model_svm= SVC(gamma='auto',C= 20, kernel='rbf')\n",
    "# Faire l'étape d'apprentissage \n",
    "model_svm1=model_svm.fit(X_train1,y_train1)\n",
    "# réaliser la prédiction de X_test1\n",
    "y_pred_svm = model_svm.predict(X_test1)\n",
    "# Afficher l'accuracy de prédiction\n",
    "svm_score=model_svm1.score(X_test1,y_test1)\n",
    "svm_score"
   ]
  },
  {
   "cell_type": "code",
   "execution_count": 95,
   "metadata": {},
   "outputs": [
    {
     "name": "stdout",
     "output_type": "stream",
     "text": [
      "[[4478  225]\n",
      " [ 828  469]]\n"
     ]
    }
   ],
   "source": [
    "#Appliquer la matrice de confusion\n",
    "from sklearn.metrics import confusion_matrix\n",
    "print(confusion_matrix(y_test1, y_pred_svm))"
   ]
  },
  {
   "cell_type": "code",
   "execution_count": 96,
   "metadata": {},
   "outputs": [
    {
     "name": "stdout",
     "output_type": "stream",
     "text": [
      "              precision    recall  f1-score   support\n",
      "\n",
      "           0       0.84      0.95      0.89      4703\n",
      "           1       0.68      0.36      0.47      1297\n",
      "\n",
      "    accuracy                           0.82      6000\n",
      "   macro avg       0.76      0.66      0.68      6000\n",
      "weighted avg       0.81      0.82      0.80      6000\n",
      "\n"
     ]
    }
   ],
   "source": [
    "#Afficher \"classification_report\"\n",
    "print(classification_report(y_test1, y_pred_svm))"
   ]
  },
  {
   "cell_type": "code",
   "execution_count": null,
   "metadata": {},
   "outputs": [],
   "source": [
    "#Tester la prédiction d'un nouveau donnée\n",
    "df = np.array([210000,1,1,2,29,-2,-2,-2,-2,-2,-2,0,0,0,0,0,0,0,0,0,0,0,0]).reshape(1,23)\n",
    "df2 = np.array([20000,2,2,2,4,6,1]).reshape(1,7)\n",
    "\n",
    "\n",
    "model_svm1.predict(df2)"
   ]
  },
  {
   "cell_type": "markdown",
   "metadata": {},
   "source": [
    "## 4) XGBOOST"
   ]
  },
  {
   "cell_type": "code",
   "execution_count": null,
   "metadata": {},
   "outputs": [],
   "source": [
    "#Importer la classe \"XGBClassifier\"\n",
    "from xgboost import XGBClassifier\n",
    "model_xgboost= XGBClassifier()\n",
    "# Faire l'étape d'apprentissage \n",
    "model_xgboost.fit(X_train1,y_train1)\n",
    "# réaliser la prédiction de X_test1\n",
    "y_pred_xgb = model_xgboost.predict(X_test1)\n",
    "# Afficher l'accuracy de prédiction\n",
    "model_xgboost.score(X_test1,y_test1)"
   ]
  },
  {
   "cell_type": "code",
   "execution_count": null,
   "metadata": {},
   "outputs": [],
   "source": [
    "xgb_score=model_xgboost.score(X_test1,y_test1)\n",
    "xgb_score"
   ]
  },
  {
   "cell_type": "code",
   "execution_count": null,
   "metadata": {},
   "outputs": [],
   "source": [
    "#Appliquer la matrice de confusion\n",
    "print(confusion_matrix(y_test1, y_pred_xgb))"
   ]
  },
  {
   "cell_type": "code",
   "execution_count": null,
   "metadata": {},
   "outputs": [],
   "source": [
    "#Afficher \"classification_report\"\n",
    "print(classification_report(y_test1, y_pred_xgb))"
   ]
  },
  {
   "cell_type": "code",
   "execution_count": null,
   "metadata": {},
   "outputs": [],
   "source": [
    "#Tester la prédiction d'un nouveau donnée\n",
    "df = np.array([20000,2,2,1,24,2,2,-1,-1,-1,-1,3919,3102,689,0,0,0,0,689,0,0,0,0]).reshape(1,23)\n",
    "df2 = np.array([20000,2,2,2,4,6,1]).reshape(1,7)\n",
    "model_xgboost.predict(df2)"
   ]
  },
  {
   "cell_type": "markdown",
   "metadata": {},
   "source": [
    "## ADABOOST"
   ]
  },
  {
   "cell_type": "code",
   "execution_count": 74,
   "metadata": {},
   "outputs": [
    {
     "data": {
      "text/plain": [
       "0.8275"
      ]
     },
     "execution_count": 74,
     "metadata": {},
     "output_type": "execute_result"
    }
   ],
   "source": [
    "#Importer la classe \"AdaBoostClassifier\"\n",
    "from sklearn.ensemble import AdaBoostClassifier\n",
    "from sklearn.tree import DecisionTreeClassifier\n",
    "model_ada = AdaBoostClassifier(DecisionTreeClassifier(max_depth=2, min_samples_split=20, min_samples_leaf=5),\n",
    "                         algorithm=\"SAMME\",\n",
    "                         n_estimators=500, learning_rate=0.8)\n",
    "# Faire l'étape d'apprentissage \n",
    "model_ada.fit(X_train1, y_train1)\n",
    "# réaliser la prédiction de X_test1\n",
    "y_pred_ada = model_ada.predict(X_test1)\n",
    "model_ada.score(X_test1,y_test1)\n",
    "# Afficher l'accuracy de prédiction\n",
    "ada_score=model_ada.score(X_test1,y_test1)\n",
    "ada_score"
   ]
  },
  {
   "cell_type": "code",
   "execution_count": 75,
   "metadata": {},
   "outputs": [
    {
     "name": "stdout",
     "output_type": "stream",
     "text": [
      "[[4488  215]\n",
      " [ 820  477]]\n"
     ]
    }
   ],
   "source": [
    "#Appliquer la matrice de confusion\n",
    "print(confusion_matrix(y_test1, y_pred_ada))"
   ]
  },
  {
   "cell_type": "code",
   "execution_count": 76,
   "metadata": {},
   "outputs": [
    {
     "name": "stdout",
     "output_type": "stream",
     "text": [
      "              precision    recall  f1-score   support\n",
      "\n",
      "           0       0.85      0.95      0.90      4703\n",
      "           1       0.69      0.37      0.48      1297\n",
      "\n",
      "    accuracy                           0.83      6000\n",
      "   macro avg       0.77      0.66      0.69      6000\n",
      "weighted avg       0.81      0.83      0.81      6000\n",
      "\n"
     ]
    }
   ],
   "source": [
    "#Afficher \"classification_report\"\n",
    "print(classification_report(y_test1, y_pred_ada))"
   ]
  },
  {
   "cell_type": "code",
   "execution_count": 77,
   "metadata": {},
   "outputs": [
    {
     "data": {
      "text/plain": [
       "array([1], dtype=int64)"
      ]
     },
     "execution_count": 77,
     "metadata": {},
     "output_type": "execute_result"
    }
   ],
   "source": [
    "#Tester la prédiction d'un nouveau donnée\n",
    "df = np.array([20000,2,2,1,24,2,2,-1,-1,-1,-1,3919,3102,689,0,0,0,0,689,0,0,0,0]).reshape(1,23)\n",
    "df2 = np.array([20000,2,2,2,4,6,1]).reshape(1,7)\n",
    "model_ada.predict(df)"
   ]
  },
  {
   "cell_type": "code",
   "execution_count": 78,
   "metadata": {},
   "outputs": [],
   "source": [
    "### Courbe ROC de différents modéle"
   ]
  },
  {
   "cell_type": "code",
   "execution_count": 79,
   "metadata": {},
   "outputs": [],
   "source": [
    "#Importer les méthodes \"roc_curve, auc\"\n",
    "%matplotlib inline\n",
    "\n",
    "from sklearn.metrics import roc_curve, auc"
   ]
  },
  {
   "cell_type": "code",
   "execution_count": 80,
   "metadata": {},
   "outputs": [],
   "source": [
    "# Création d'un tuple qui contient false positive rate, trus positive rate \n",
    "fpr1, tpr1, threshold1 = roc_curve(y_test1, y_pred_dtc) \n",
    "roc_auc1 = auc(fpr1, tpr1)\n",
    "fpr2, tpr2, threshold2 = roc_curve(y_test1, y_pred_rfc) \n",
    "roc_auc2 = auc(fpr2, tpr2)\n",
    "fpr3, tpr3, threshold3 = roc_curve(y_test1, y_pred_knn1)\n",
    "roc_auc3 = auc(fpr3, tpr3)\n",
    "fpr4, tpr4, threshold4 = roc_curve(y_test1, y_pred_svm)\n",
    "roc_auc4 = auc(fpr4, tpr4)\n",
    "fpr5, tpr5, threshold5 = roc_curve(y_test1, y_pred_xgb)\n",
    "roc_auc5 = auc(fpr5, tpr5)\n",
    "fpr6, tpr6, threshold6 = roc_curve(y_test1, y_pred_ada)\n",
    "roc_auc6= auc(fpr6, tpr6)\n",
    "fpr7, tpr7, threshold7 = roc_curve(y_test1, y_pred_lr)\n",
    "roc_auc7= auc(fpr7, tpr7)\n",
    "fpr8, tpr8, threshold8 = roc_curve(y_test1, y_pred_nb)\n",
    "roc_auc8= auc(fpr8, tpr8)"
   ]
  },
  {
   "cell_type": "code",
   "execution_count": 81,
   "metadata": {},
   "outputs": [
    {
     "data": {
      "image/png": "[encoded data removed]",
      "text/plain": [
       "<Figure size 720x720 with 1 Axes>"
      ]
     },
     "metadata": {
      "needs_background": "light"
     },
     "output_type": "display_data"
    }
   ],
   "source": [
    "plt.figure(figsize=(10,10)) \n",
    "plt.plot(fpr1, tpr1, color='navy', lw=2, label='CART ROC curve (area = %0.2f)'% roc_auc1)\n",
    "plt.plot(fpr2, tpr2, color='green', lw=2, label='Random Forest ROC curve (area = %0.2f)'% roc_auc2)\n",
    "plt.plot(fpr3, tpr3, color='yellow', lw=2, label='kNN ROC curve (area = %0.2f)'% roc_auc3)\n",
    "plt.plot(fpr4, tpr4, color='orange', lw=2, label='SVM ROC curve (area = %0.2f)'% roc_auc4)\n",
    "plt.plot(fpr5, tpr5, color='purple', lw=2, label='XGBOOST ROC curve (area = %0.2f)'% roc_auc5)\n",
    "plt.plot(fpr6, tpr6, color='black', lw=2, label='ADABOOST ROC curve (area = %0.2f)'% roc_auc6)\n",
    "plt.plot(fpr7, tpr7, color='lime', lw=2, label='LogisticR ROC curve (area = %0.2f)'% roc_auc7)\n",
    "plt.plot(fpr8, tpr8, color='cyan', lw=2, label='NaiveB ROC curve (area = %0.2f)'% roc_auc8)\n",
    "plt.plot([0, 1], [0, 1], color='red', lw=2, linestyle='--') \n",
    "plt.xlim([0.0, 1.0]) \n",
    "plt.ylim([0.0, 1.05]) \n",
    "plt.xlabel('False Positive Rate') \n",
    "plt.ylabel('True Positive Rate') \n",
    "plt.title('Classifiers ROC curves') \n",
    "plt.legend(loc = \"lower right\")\n",
    "plt.show()"
   ]
  },
  {
   "cell_type": "code",
   "execution_count": 82,
   "metadata": {},
   "outputs": [],
   "source": [
    "# Création de fichier pickle  contient les models traités au-dessus\n",
    "import pickle\n",
    "with open('taiwan_final.pkl','wb') as file:\n",
    "    pickle.dump([knn_model1,dtc_model,rfc_model,lr_model,model_naive,model_svm1,model_xgboost,model_ada],file)"
   ]
  },
  {
   "cell_type": "code",
   "execution_count": 83,
   "metadata": {},
   "outputs": [],
   "source": [
    "# Création de fichier pickle contient false positive rate, true positive rate et roc_auc\n",
    "import pickle\n",
    "with open('taiwan_final_roc.pkl','wb') as file:\n",
    "    pickle.dump([fpr1, tpr1,roc_auc1,fpr2, tpr2,roc_auc2,fpr3, tpr3,roc_auc3,fpr4, tpr4,roc_auc4,fpr5, tpr5,roc_auc5,fpr6, tpr6,roc_auc6,fpr7, tpr7,roc_auc7,fpr8, tpr8,roc_auc8],file)"
   ]
  },
  {
   "cell_type": "code",
   "execution_count": 84,
   "metadata": {},
   "outputs": [],
   "source": [
    "# Création de fichier pickle contient le score de chaque modéle traité\n",
    "import pickle\n",
    "with open('taiwan_final_score.pkl','wb') as file:\n",
    "    pickle.dump([knn_score,dtc_score,rfc_score,lr_score,nb_score,svm_score,xgb_score,ada_score],file)"
   ]
  },
  {
   "cell_type": "code",
   "execution_count": 85,
   "metadata": {},
   "outputs": [
    {
     "data": {
      "text/plain": [
       "KNeighborsClassifier(algorithm='auto', leaf_size=30, metric='minkowski',\n",
       "                     metric_params=None, n_jobs=None, n_neighbors=39, p=2,\n",
       "                     weights='uniform')"
      ]
     },
     "execution_count": 85,
     "metadata": {},
     "output_type": "execute_result"
    }
   ],
   "source": [
    "#ouvrir un fichier pickle\n",
    "with open('taiwan_final.pkl','rb') as f:\n",
    "    ma= pickle.load(f)\n",
    "ma[0]"
   ]
  },
  {
   "cell_type": "markdown",
   "metadata": {},
   "source": [
    "## Les modéles non Supervisé de clustering "
   ]
  },
  {
   "cell_type": "markdown",
   "metadata": {},
   "source": [
    "### Kmeans"
   ]
  },
  {
   "cell_type": "code",
   "execution_count": 87,
   "metadata": {},
   "outputs": [
    {
     "name": "stdout",
     "output_type": "stream",
     "text": [
      "3214024.3877333417\n",
      "1444557.4166873975\n",
      "1039167.3215751157\n",
      "888594.5424661534\n",
      "811197.5655289374\n",
      "753613.988177984\n",
      "709120.4760735685\n",
      "675033.9052442594\n",
      "647995.9570332454\n"
     ]
    },
    {
     "data": {
      "text/plain": [
       "[<matplotlib.lines.Line2D at 0x15ac3017fd0>]"
      ]
     },
     "execution_count": 87,
     "metadata": {},
     "output_type": "execute_result"
    },
    {
     "data": {
      "image/png": "[encoded data removed]",
      "text/plain": [
       "<Figure size 432x288 with 1 Axes>"
      ]
     },
     "metadata": {
      "needs_background": "light"
     },
     "output_type": "display_data"
    }
   ],
   "source": [
    "# Importer la classe kmeans\n",
    "from sklearn.cluster import KMeans\n",
    "#Utilise la méthode elbow pour connaitre la meilleur valeur de k\n",
    "sse = []\n",
    "k_rng = range(1,10)\n",
    "for k in k_rng:\n",
    "    km = KMeans(n_clusters=k)\n",
    "    km.fit(X)\n",
    "    sse.append(km.inertia_)\n",
    "    print (km.inertia_)\n",
    "plt.xlabel('K')\n",
    "plt.ylabel('Sum of squared error')\n",
    "plt.plot(k_rng,sse)"
   ]
  },
  {
   "cell_type": "code",
   "execution_count": 88,
   "metadata": {},
   "outputs": [
    {
     "data": {
      "text/plain": [
       "array([0, 0, 0, ..., 0, 0, 0])"
      ]
     },
     "execution_count": 88,
     "metadata": {},
     "output_type": "execute_result"
    }
   ],
   "source": [
    "#Appliquer la méthode Kmeans pour k=2\n",
    "Model1 = KMeans(n_clusters=2)\n",
    "Model1.fit(data_propre.iloc[:,1:])\n",
    "Model1.labels_"
   ]
  },
  {
   "cell_type": "code",
   "execution_count": 92,
   "metadata": {},
   "outputs": [
    {
     "data": {
      "text/html": [
       "<div>\n",
       "<style scoped>\n",
       "    .dataframe tbody tr th:only-of-type {\n",
       "        vertical-align: middle;\n",
       "    }\n",
       "\n",
       "    .dataframe tbody tr th {\n",
       "        vertical-align: top;\n",
       "    }\n",
       "\n",
       "    .dataframe thead th {\n",
       "        text-align: right;\n",
       "    }\n",
       "</style>\n",
       "<table border=\"1\" class=\"dataframe\">\n",
       "  <thead>\n",
       "    <tr style=\"text-align: right;\">\n",
       "      <th>col_0</th>\n",
       "      <th>0</th>\n",
       "      <th>1</th>\n",
       "    </tr>\n",
       "    <tr>\n",
       "      <th>default payment next month</th>\n",
       "      <th></th>\n",
       "      <th></th>\n",
       "    </tr>\n",
       "  </thead>\n",
       "  <tbody>\n",
       "    <tr>\n",
       "      <th>0</th>\n",
       "      <td>20069</td>\n",
       "      <td>3295</td>\n",
       "    </tr>\n",
       "    <tr>\n",
       "      <th>1</th>\n",
       "      <td>5811</td>\n",
       "      <td>825</td>\n",
       "    </tr>\n",
       "  </tbody>\n",
       "</table>\n",
       "</div>"
      ],
      "text/plain": [
       "col_0                           0     1\n",
       "default payment next month             \n",
       "0                           20069  3295\n",
       "1                            5811   825"
      ]
     },
     "execution_count": 92,
     "metadata": {},
     "output_type": "execute_result"
    }
   ],
   "source": [
    "#faire identifier la classe de chaque valeur en utilisant crosstab\n",
    "pd.crosstab(y,Model1.labels_)"
   ]
  },
  {
   "cell_type": "code",
   "execution_count": 93,
   "metadata": {},
   "outputs": [],
   "source": [
    "## CAH"
   ]
  },
  {
   "cell_type": "code",
   "execution_count": 95,
   "metadata": {},
   "outputs": [],
   "source": [
    "#Importer la classe CAH\n",
    "from scipy.cluster.hierarchy import dendrogram, linkage,fcluster,set_link_color_palette\n",
    "# Faire la liaison entre tous les données en utilisant la fonction linkage()\n",
    "Z= linkage(X,method='ward',metric='euclidean')"
   ]
  },
  {
   "cell_type": "code",
   "execution_count": 98,
   "metadata": {},
   "outputs": [
    {
     "data": {
      "image/png": "[encoded data removed]",
      "text/plain": [
       "<Figure size 432x288 with 1 Axes>"
      ]
     },
     "metadata": {
      "needs_background": "light"
     },
     "output_type": "display_data"
    }
   ],
   "source": [
    "plt.title(\"CHA\") \n",
    "#Afficher la liaison obtenu avec dendogramme\n",
    "dendrogram(Z,labels=X.index,orientation='left',color_threshold=0) \n",
    "plt.show()"
   ]
  },
  {
   "cell_type": "code",
   "execution_count": 100,
   "metadata": {},
   "outputs": [
    {
     "data": {
      "image/png": "[encoded data removed]",
      "text/plain": [
       "<Figure size 432x288 with 1 Axes>"
      ]
     },
     "metadata": {
      "needs_background": "light"
     },
     "output_type": "display_data"
    }
   ],
   "source": [
    "# Choisir un threshhold qui permet de diviser les données en deux classes\n",
    "plt.title('CAH avec matérialisation des 2 classes') \n",
    "dendrogram(Z,labels=X.index,orientation='left',color_threshold=1500\n",
    "          ) \n",
    "plt.show()"
   ]
  },
  {
   "cell_type": "code",
   "execution_count": 101,
   "metadata": {},
   "outputs": [],
   "source": [
    "#Appliquer la ségmentation en utilisant fcluster\n",
    "clusters = fcluster(Z,criterion='distance', t=1500)"
   ]
  },
  {
   "cell_type": "code",
   "execution_count": 103,
   "metadata": {},
   "outputs": [
    {
     "data": {
      "text/html": [
       "<div>\n",
       "<style scoped>\n",
       "    .dataframe tbody tr th:only-of-type {\n",
       "        vertical-align: middle;\n",
       "    }\n",
       "\n",
       "    .dataframe tbody tr th {\n",
       "        vertical-align: top;\n",
       "    }\n",
       "\n",
       "    .dataframe thead th {\n",
       "        text-align: right;\n",
       "    }\n",
       "</style>\n",
       "<table border=\"1\" class=\"dataframe\">\n",
       "  <thead>\n",
       "    <tr style=\"text-align: right;\">\n",
       "      <th>col_0</th>\n",
       "      <th>1</th>\n",
       "      <th>2</th>\n",
       "    </tr>\n",
       "    <tr>\n",
       "      <th>default payment next month</th>\n",
       "      <th></th>\n",
       "      <th></th>\n",
       "    </tr>\n",
       "  </thead>\n",
       "  <tbody>\n",
       "    <tr>\n",
       "      <th>0</th>\n",
       "      <td>4680</td>\n",
       "      <td>18684</td>\n",
       "    </tr>\n",
       "    <tr>\n",
       "      <th>1</th>\n",
       "      <td>1516</td>\n",
       "      <td>5120</td>\n",
       "    </tr>\n",
       "  </tbody>\n",
       "</table>\n",
       "</div>"
      ],
      "text/plain": [
       "col_0                          1      2\n",
       "default payment next month             \n",
       "0                           4680  18684\n",
       "1                           1516   5120"
      ]
     },
     "execution_count": 103,
     "metadata": {},
     "output_type": "execute_result"
    }
   ],
   "source": [
    "#faire identifier la classe de chaque valeur en utilisant crosstab\n",
    "pd.crosstab(y,clusters)"
   ]
  },
  {
   "cell_type": "markdown",
   "metadata": {},
   "source": [
    "## DBSCAN"
   ]
  },
  {
   "cell_type": "code",
   "execution_count": 108,
   "metadata": {},
   "outputs": [
    {
     "name": "stdout",
     "output_type": "stream",
     "text": [
      "[-1 -1 -1 ... -1 -1 -1]\n"
     ]
    }
   ],
   "source": [
    "# Importer la classe DBSCAN,metric\n",
    "from sklearn.cluster import DBSCAN \n",
    "from sklearn import metrics \n",
    "from sklearn.datasets.samples_generator import make_blobs \n",
    "\n",
    "  \n",
    "# Appliquer DBSCAN \n",
    "db = DBSCAN(eps=0.3, min_samples=10).fit(X) \n",
    "core_samples_mask = np.zeros_like(db.labels_, dtype=bool) \n",
    "core_samples_mask[db.core_sample_indices_] = True\n",
    "labels = db.labels_ \n",
    "  \n",
    "# Identifier le nombre de clusters   \n",
    "n_clusters_ = len(set(labels)) - (1 if -1 in labels else 0) \n",
    "  \n",
    "print(labels)"
   ]
  },
  {
   "cell_type": "code",
   "execution_count": 114,
   "metadata": {},
   "outputs": [
    {
     "data": {
      "text/plain": [
       "array([[-1.13672015,  2.        ,  2.        , ..., -0.30806256,\n",
       "        -0.31413612, -0.29338206],\n",
       "       [-0.3659805 ,  2.        ,  2.        , ..., -0.24422965,\n",
       "        -0.31413612, -0.18087821],\n",
       "       [-0.59720239,  2.        ,  2.        , ..., -0.24422965,\n",
       "        -0.24868274, -0.01212243],\n",
       "       ...,\n",
       "       [-1.05964618,  1.        ,  2.        , ..., -0.03996431,\n",
       "        -0.18322937, -0.11900109],\n",
       "       [-0.67427636,  1.        ,  3.        , ..., -0.18512036,\n",
       "         3.15253642, -0.19190359],\n",
       "       [-0.90549825,  1.        ,  2.        , ..., -0.24422965,\n",
       "        -0.24868274, -0.23713013]])"
      ]
     },
     "execution_count": 114,
     "metadata": {},
     "output_type": "execute_result"
    }
   ],
   "source": [
    "X.values"
   ]
  },
  {
   "cell_type": "code",
   "execution_count": 115,
   "metadata": {},
   "outputs": [
    {
     "data": {
      "text/plain": [
       "DBSCAN(algorithm='auto', eps=0.25, leaf_size=30, metric='euclidean',\n",
       "       metric_params=None, min_samples=10, n_jobs=None, p=None)"
      ]
     },
     "execution_count": 115,
     "metadata": {},
     "output_type": "execute_result"
    }
   ],
   "source": [
    "#Appliquer DBSCAN au données échantilooné\n",
    "DBSCANModel = DBSCAN(metric='euclidean',eps=0.25,min_samples=10,algorithm='auto').fit(X.values)\n",
    "DBSCANModel"
   ]
  },
  {
   "cell_type": "code",
   "execution_count": null,
   "metadata": {},
   "outputs": [],
   "source": []
  }
 ],
 "metadata": {
  "kernelspec": {
   "display_name": "Python 3",
   "language": "python",
   "name": "python3"
  },
  "language_info": {
   "codemirror_mode": {
    "name": "ipython",
    "version": 3
   },
   "file_extension": ".py",
   "mimetype": "text/x-python",
   "name": "python",
   "nbconvert_exporter": "python",
   "pygments_lexer": "ipython3",
   "version": "3.7.3"
  }
 },
 "nbformat": 4,
 "nbformat_minor": 4
}
